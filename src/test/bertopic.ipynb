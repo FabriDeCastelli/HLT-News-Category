{
 "cells": [
  {
   "cell_type": "code",
   "execution_count": 16,
   "metadata": {},
   "source": [
    "import warnings\n",
    "import os\n",
    "import sys\n",
    "\n",
    "\n",
    "warnings.filterwarnings('ignore')\n",
    "current_dir = %pwd\n",
    "\n",
    "parent_dir = os.path.abspath(os.path.join(current_dir, '../..'))\n",
    "sys.path.append(parent_dir)"
   ],
   "outputs": []
  },
  {
   "cell_type": "code",
   "execution_count": 17,
   "metadata": {},
   "source": [
    "import pandas as pd\n",
    "from bertopic import BERTopic\n",
    "from nltk.corpus import stopwords\n",
    "import nltk\n",
    "import os\n",
    "from src.main.utilities import utils\n",
    "\n",
    "os.environ[\"TOKENIZERS_PARALLELISM\"] = \"false\" \n",
    "\n",
    "#nltk.download('stopwords')\n",
    "stop_words = set(stopwords.words('english'))\n",
    "\n",
    "#read and clean dataset\n",
    "df = pd.read_json('../../dataset/News_Category_Dataset.json', lines=True)\n",
    "df = utils.clean(df)\n",
    "\n",
    "print(len(df))\n",
    "\n",
    "# Remove stopwords from dataset\n",
    "df['short_description'] = df['short_description'].apply(lambda x: ' '.join([word for word in x.split() if word.lower() not in (stop_words)]))\n",
    "\n",
    "# Extract 100000 samples of short_description and category for Bertopic\n",
    "docs = df['short_description'].tolist()[:50000]\n",
    "cat = df['category'].tolist()[:50000]\n",
    "\n",
    "topic_model = BERTopic(language=\"english\", calculate_probabilities=True, verbose=True, nr_topics=21)\n",
    "\n",
    "# Fit BERTopic model and extract topics\n",
    "topics, _ = topic_model.fit_transform(docs)\n",
    "\n"
   ],
   "outputs": []
  },
  {
   "cell_type": "code",
   "execution_count": 18,
   "metadata": {},
   "source": [
    "#plot founded topics\n",
    "print(topic_model.get_topic_info())"
   ],
   "outputs": []
  },
  {
   "cell_type": "code",
   "execution_count": 19,
   "metadata": {},
   "source": [
    "\n",
    "# Recreate dataframe for counting unique categories per topic\n",
    "df = pd.DataFrame({'Document': docs, 'Category': cat, 'Topic': topics})\n",
    "\n",
    "df = df.groupby('Topic')['Category'].nunique()\n",
    "\n"
   ],
   "outputs": []
  },
  {
   "cell_type": "code",
   "execution_count": 20,
   "metadata": {},
   "source": [
    "import matplotlib.pyplot as plt\n",
    "\n",
    "plt.figure(figsize=(10, 6))  \n",
    "plt.bar(df.index, df.values, color='skyblue')\n",
    "\n",
    "#plt.xticks(df.index)\n",
    "\n",
    "plt.xlabel('Topics')\n",
    "plt.ylabel('Number of Unique Categories')\n",
    "plt.title('# Unique Categories per Topic')\n",
    "\n",
    "plt.show()"
   ],
   "outputs": []
  },
  {
   "cell_type": "code",
   "execution_count": null,
   "metadata": {},
   "source": [],
   "outputs": []
  }
 ],
 "metadata": {
  "kernelspec": {
   "display_name": "Python 3",
   "language": "python",
   "name": "python3"
  },
  "language_info": {
   "codemirror_mode": {
    "name": "ipython",
    "version": 3
   },
   "file_extension": ".py",
   "mimetype": "text/x-python",
   "name": "python",
   "nbconvert_exporter": "python",
   "pygments_lexer": "ipython3",
   "version": "3.12.2"
  }
 },
 "nbformat": 4,
 "nbformat_minor": 2
}
