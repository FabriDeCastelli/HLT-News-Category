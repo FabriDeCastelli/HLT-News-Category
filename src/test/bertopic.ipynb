{
 "cells": [
  {
   "metadata": {},
   "cell_type": "markdown",
   "source": "<b>BERTopic analysis</b>"
  },
  {
   "metadata": {
    "ExecuteTime": {
     "end_time": "2024-05-28T10:31:19.711138Z",
     "start_time": "2024-05-28T10:31:19.706835Z"
    }
   },
   "cell_type": "code",
   "source": [
    "import warnings\n",
    "import os\n",
    "import sys\n",
    "\n",
    "os.environ[\"TOKENIZERS_PARALLELISM\"] = \"false\" \n",
    "\n",
    "warnings.filterwarnings('ignore')\n",
    "current_dir = %pwd\n",
    "\n",
    "parent_dir = os.path.abspath(os.path.join(current_dir, '../..'))\n",
    "sys.path.append(parent_dir)"
   ],
   "outputs": [],
   "execution_count": 1
  },
  {
   "metadata": {},
   "cell_type": "markdown",
   "source": "<b>Import libraries</b>"
  },
  {
   "metadata": {
    "ExecuteTime": {
     "end_time": "2024-05-28T10:31:27.094087Z",
     "start_time": "2024-05-28T10:31:19.721045Z"
    }
   },
   "cell_type": "code",
   "source": [
    "import pandas as pd\n",
    "from bertopic import BERTopic\n",
    "from src.main.pipeline.functions import stop_words_removal\n",
    "from src.main.utilities import utils"
   ],
   "outputs": [],
   "execution_count": 2
  },
  {
   "metadata": {},
   "cell_type": "markdown",
   "source": "<b>Read and clean dataset</b>"
  },
  {
   "metadata": {},
   "cell_type": "code",
   "source": [
    "#read and clean dataset\n",
    "df = pd.read_json('../../dataset/News_Category_Dataset.json', lines=True)\n",
    "df = utils.clean(df)\n",
    "\n",
    "# Remove stopwords from full_article\n",
    "df['full_article'] = df['full_article'].apply(stop_words_removal)\n",
    "\n",
    "# Extract 50000 samples of short_description and category for Bertopic\n",
    "docs = df['full_article'].tolist()[:50000]\n",
    "cat = df['category'].tolist()[:50000]"
   ],
   "outputs": [],
   "execution_count": null
  },
  {
   "metadata": {},
   "cell_type": "markdown",
   "source": "<b>Create and fit BERTopic model</b>"
  },
  {
   "cell_type": "code",
   "metadata": {},
   "source": [
    "topic_model = BERTopic(language=\"english\", calculate_probabilities=True, verbose=True, nr_topics=21)\n",
    "\n",
    "# Fit BERTopic model and extract topics\n",
    "topics, _ = topic_model.fit_transform(docs)\n",
    "\n"
   ],
   "outputs": [],
   "execution_count": null
  },
  {
   "metadata": {},
   "cell_type": "markdown",
   "source": "<b>Plot founded topics</b>"
  },
  {
   "cell_type": "code",
   "metadata": {},
   "source": "print(topic_model.get_topic_info())",
   "outputs": [],
   "execution_count": null
  },
  {
   "metadata": {},
   "cell_type": "markdown",
   "source": "<b>Recreate dataframe for counting unique categories per topic</b>"
  },
  {
   "cell_type": "code",
   "metadata": {},
   "source": [
    "df = pd.DataFrame({'Document': docs, 'Category': cat, 'Topic': topics})\n",
    "df = df.groupby('Topic')['Category'].nunique()\n"
   ],
   "outputs": [],
   "execution_count": null
  },
  {
   "cell_type": "code",
   "metadata": {},
   "source": [
    "import matplotlib.pyplot as plt\n",
    "\n",
    "plt.figure(figsize=(10, 6))  \n",
    "plt.bar(df.index, df.values, color='skyblue')\n",
    "\n",
    "plt.xlabel('Topics')\n",
    "plt.ylabel('Number of Unique Categories')\n",
    "plt.title('# Unique Categories per Topic')\n",
    "\n",
    "plt.show()"
   ],
   "outputs": [],
   "execution_count": null
  }
 ],
 "metadata": {
  "kernelspec": {
   "display_name": "Python 3",
   "language": "python",
   "name": "python3"
  },
  "language_info": {
   "codemirror_mode": {
    "name": "ipython",
    "version": 3
   },
   "file_extension": ".py",
   "mimetype": "text/x-python",
   "name": "python",
   "nbconvert_exporter": "python",
   "pygments_lexer": "ipython3",
   "version": "3.12.2"
  }
 },
 "nbformat": 4,
 "nbformat_minor": 2
}
