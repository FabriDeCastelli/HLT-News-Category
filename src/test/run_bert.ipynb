{
 "cells": [
  {
   "cell_type": "code",
   "execution_count": 16,
   "metadata": {},
   "outputs": [],
   "source": [
    "import warnings\n",
    "import os\n",
    "import sys\n",
    "\n",
    "\n",
    "warnings.filterwarnings('ignore')\n",
    "current_dir = %pwd\n",
    "\n",
    "parent_dir = os.path.abspath(os.path.join(current_dir, '../..'))\n",
    "sys.path.append(parent_dir)"
   ]
  },
  {
   "cell_type": "code",
   "execution_count": 17,
   "metadata": {},
   "outputs": [
    {
     "name": "stdout",
     "output_type": "stream",
     "text": [
      "186045\n"
     ]
    },
    {
     "name": "stderr",
     "output_type": "stream",
     "text": [
      "2024-04-14 20:01:56,409 - BERTopic - Embedding - Transforming documents to embeddings.\n",
      "Batches: 100%|██████████| 1563/1563 [00:40<00:00, 39.02it/s]\n",
      "2024-04-14 20:02:40,216 - BERTopic - Embedding - Completed ✓\n",
      "2024-04-14 20:02:40,217 - BERTopic - Dimensionality - Fitting the dimensionality reduction algorithm\n",
      "2024-04-14 20:02:52,057 - BERTopic - Dimensionality - Completed ✓\n",
      "2024-04-14 20:02:52,058 - BERTopic - Cluster - Start clustering the reduced embeddings\n",
      "2024-04-14 20:10:27,732 - BERTopic - Cluster - Completed ✓\n",
      "2024-04-14 20:10:27,742 - BERTopic - Representation - Extracting topics from clusters using representation models.\n",
      "2024-04-14 20:10:28,292 - BERTopic - Representation - Completed ✓\n",
      "2024-04-14 20:10:28,293 - BERTopic - Topic reduction - Reducing number of topics\n",
      "2024-04-14 20:10:28,789 - BERTopic - Topic reduction - Reduced number of topics from 441 to 21\n"
     ]
    }
   ],
   "source": [
    "import pandas as pd\n",
    "from bertopic import BERTopic\n",
    "from nltk.corpus import stopwords\n",
    "import nltk\n",
    "import os\n",
    "from src.main.utilities import utils\n",
    "\n",
    "os.environ[\"TOKENIZERS_PARALLELISM\"] = \"false\" \n",
    "\n",
    "#nltk.download('stopwords')\n",
    "stop_words = set(stopwords.words('english'))\n",
    "\n",
    "#read and clean dataset\n",
    "df = pd.read_json('../../dataset/News_Category_Dataset.json', lines=True)\n",
    "df = utils.clean(df)\n",
    "\n",
    "print(len(df))\n",
    "\n",
    "# Remove stopwords from dataset\n",
    "df['short_description'] = df['short_description'].apply(lambda x: ' '.join([word for word in x.split() if word.lower() not in (stop_words)]))\n",
    "\n",
    "# Extract 100000 samples of short_description and category for Bertopic\n",
    "docs = df['short_description'].tolist()[:50000]\n",
    "cat = df['category'].tolist()[:50000]\n",
    "\n",
    "topic_model = BERTopic(language=\"english\", calculate_probabilities=True, verbose=True, nr_topics=21)\n",
    "\n",
    "# Fit BERTopic model and extract topics\n",
    "topics, _ = topic_model.fit_transform(docs)\n",
    "\n"
   ]
  },
  {
   "cell_type": "code",
   "execution_count": 18,
   "metadata": {},
   "outputs": [
    {
     "name": "stdout",
     "output_type": "stream",
     "text": [
      "    Topic  Count                                         Name  \\\n",
      "0      -1  25054                  -1_said_trump_one_president   \n",
      "1       0   7526                    0_trump_president_us_said   \n",
      "2       1   5817                          1_women_said_its_it   \n",
      "3       2   2164                      2_host_show_late_singer   \n",
      "4       3   1913                   3_sexual_gun_accused_court   \n",
      "5       4   1692        4_coronavirus_covid19_pandemic_health   \n",
      "6       5   1443                   5_christmas_time_year_love   \n",
      "7       6    749                6_hurricane_storm_died_people   \n",
      "8       7    575                 7_olympic_olympics_golf_gold   \n",
      "9       8    510                   8_climate_change_water_epa   \n",
      "10      9    472                    9_hair_wine_rainbow_deals   \n",
      "11     10    414                  10_food_dish_eating_cooking   \n",
      "12     11    338  11_tomdispatchcom_crossposted_facebook_uber   \n",
      "13     12    326                    12_mayor_travel_city_trip   \n",
      "14     13    282                       13_dogs_dog_cat_animal   \n",
      "15     14    219            14_million_money_campaign_donated   \n",
      "16     15    190             15_plane_flight_airline_airlines   \n",
      "17     16    103            16_opal_burrrrrn_despacitooo_sims   \n",
      "18     17     99                 17_duchess_sussex_duke_queen   \n",
      "19     18     77                 18_art_artist_museum_artists   \n",
      "20     19     37                     19_dance_gym_danced_gyms   \n",
      "\n",
      "                                       Representation  \\\n",
      "0   [said, trump, one, president, people, new, us,...   \n",
      "1   [trump, president, us, said, donald, news, hou...   \n",
      "2   [women, said, its, it, im, people, we, lgbtq, ...   \n",
      "3   [host, show, late, singer, film, music, the, m...   \n",
      "4   [sexual, gun, accused, court, harassment, poli...   \n",
      "5   [coronavirus, covid19, pandemic, health, virus...   \n",
      "6   [christmas, time, year, love, 2017, ready, hol...   \n",
      "7   [hurricane, storm, died, people, killed, injur...   \n",
      "8   [olympic, olympics, golf, gold, winter, tennis...   \n",
      "9   [climate, change, water, epa, paris, pruitt, e...   \n",
      "10  [hair, wine, rainbow, deals, sale, dress, shop...   \n",
      "11  [food, dish, eating, cooking, chocolate, eat, ...   \n",
      "12  [tomdispatchcom, crossposted, facebook, uber, ...   \n",
      "13  [mayor, travel, city, trip, sanctuary, york, n...   \n",
      "14  [dogs, dog, cat, animal, disney, animals, bird...   \n",
      "15  [million, money, campaign, donated, economy, d...   \n",
      "16  [plane, flight, airline, airlines, aircraft, a...   \n",
      "17  [opal, burrrrrn, despacitooo, sims, noel, poss...   \n",
      "18  [duchess, sussex, duke, queen, prince, cambrid...   \n",
      "19  [art, artist, museum, artists, arts, prize, pa...   \n",
      "20  [dance, gym, danced, gyms, moves, fitness, exe...   \n",
      "\n",
      "                                  Representative_Docs  \n",
      "0   [\"The Biden administration spying us,\" Fox New...  \n",
      "1   [time Donald Trump Republicans repeal it., Lik...  \n",
      "2   [“We it!”, \"It's one things,\" said., “You know...  \n",
      "3   [\"Late Show\" host urgent message president., \"...  \n",
      "4   [Twenty-one women accused president sexual mis...  \n",
      "5   [\"We serious problem,” Lassen County's public ...  \n",
      "6   [holidays wonderful time year families friends...  \n",
      "7   [least 4 people reported killed., storm left s...  \n",
      "8   [Going inside mind five-time national champion...  \n",
      "9   [Asked role climate change, Sen. Steve Daines ...  \n",
      "10  [one-stop-shop things Black Friday -- beauty f...  \n",
      "11  [Especially summer, Jackie eat lot vegetable-b...  \n",
      "12  [Facebook CEO finally apologized data breach t...  \n",
      "13  [former New York City mayor may crossed line T...  \n",
      "14  [“I want dogs love cats.”, dog day., scaredy-c...  \n",
      "15  [total value estimated $2.8 million., Democrat...  \n",
      "16  [flight reportedly chilly, mood plane., pilot ...  \n",
      "17  [🎤Where lead, follow🎤, mess Rep. Brian Sims 🙂,...  \n",
      "18  [Duke Duchess Sussex stepped charity event Wed...  \n",
      "19  [Five artists weigh art activism., Fine art., ...  \n",
      "20  [song dance every time., Check dance moves!, d...  \n"
     ]
    }
   ],
   "source": [
    "#plot founded topics\n",
    "print(topic_model.get_topic_info())"
   ]
  },
  {
   "cell_type": "code",
   "execution_count": 19,
   "metadata": {},
   "outputs": [],
   "source": [
    "\n",
    "# Recreate dataframe for counting unique categories per topic\n",
    "df = pd.DataFrame({'Document': docs, 'Category': cat, 'Topic': topics})\n",
    "\n",
    "df = df.groupby('Topic')['Category'].nunique()\n",
    "\n"
   ]
  },
  {
   "cell_type": "code",
   "execution_count": 20,
   "metadata": {},
   "outputs": [
    {
     "data": {
      "image/png": "[encoded data removed]",
      "text/plain": [
       "<Figure size 1000x600 with 1 Axes>"
      ]
     },
     "metadata": {},
     "output_type": "display_data"
    }
   ],
   "source": [
    "import matplotlib.pyplot as plt\n",
    "\n",
    "plt.figure(figsize=(10, 6))  \n",
    "plt.bar(df.index, df.values, color='skyblue')\n",
    "\n",
    "#plt.xticks(df.index)\n",
    "\n",
    "plt.xlabel('Topics')\n",
    "plt.ylabel('Number of Unique Categories')\n",
    "plt.title('# Unique Categories per Topic')\n",
    "\n",
    "plt.show()"
   ]
  },
  {
   "cell_type": "code",
   "execution_count": null,
   "metadata": {},
   "outputs": [],
   "source": []
  }
 ],
 "metadata": {
  "kernelspec": {
   "display_name": "Python 3",
   "language": "python",
   "name": "python3"
  },
  "language_info": {
   "codemirror_mode": {
    "name": "ipython",
    "version": 3
   },
   "file_extension": ".py",
   "mimetype": "text/x-python",
   "name": "python",
   "nbconvert_exporter": "python",
   "pygments_lexer": "ipython3",
   "version": "3.12.2"
  }
 },
 "nbformat": 4,
 "nbformat_minor": 2
}
