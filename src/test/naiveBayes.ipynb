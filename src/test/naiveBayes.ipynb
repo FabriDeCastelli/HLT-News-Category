{
 "cells": [
  {
   "cell_type": "code",
   "id": "initial_id",
   "metadata": {
    "collapsed": true,
    "ExecuteTime": {
     "end_time": "2024-05-24T15:41:25.236503Z",
     "start_time": "2024-05-24T15:41:25.232340Z"
    }
   },
   "source": [
    "import warnings\n",
    "import os\n",
    "import sys\n",
    "\n",
    "warnings.filterwarnings('ignore')\n",
    "current_dir = %pwd\n",
    "\n",
    "parent_dir = os.path.abspath(os.path.join(current_dir, '../..'))\n",
    "\n",
    "sys.path.append(parent_dir)"
   ],
   "execution_count": 1,
   "outputs": []
  },
  {
   "metadata": {
    "ExecuteTime": {
     "end_time": "2024-05-24T15:41:31.439947Z",
     "start_time": "2024-05-24T15:41:25.241484Z"
    }
   },
   "cell_type": "code",
   "source": [
    "from src.main.models.naivebayes import Naivebayes\n",
    "from src.main.pipeline.functions import (clean_text, stop_words_removal, stemming, count_vectorizer)\n",
    "from src.main.utilities.utils import get_dataset, split_train_val_test\n",
    "\n",
    "import warnings\n",
    "warnings.filterwarnings(\"ignore\")"
   ],
   "id": "d1ecdb61c2e041da",
   "execution_count": 2,
   "outputs": []
  },
  {
   "metadata": {
    "ExecuteTime": {
     "end_time": "2024-05-24T15:41:32.556266Z",
     "start_time": "2024-05-24T15:41:31.440953Z"
    }
   },
   "cell_type": "code",
   "source": [
    "# define model and pipeline\n",
    "naivebayes = Naivebayes()\n",
    "naivebayes.pipeline = [clean_text, stop_words_removal, stemming, count_vectorizer]\n",
    "\n",
    "# import dataset and apply pipeline\n",
    "inputs, targets = get_dataset()\n",
    "inputs = naivebayes.run_pipeline(inputs, save=True)"
   ],
   "id": "196bedf7cfa12d05",
   "execution_count": 3,
   "outputs": []
  },
  {
   "metadata": {
    "ExecuteTime": {
     "end_time": "2024-05-24T15:41:34.356746Z",
     "start_time": "2024-05-24T15:41:34.235568Z"
    }
   },
   "cell_type": "code",
   "source": [
    "# stratified train test split\n",
    "x_train, x_val, x_test, y_train, y_val, y_test = split_train_val_test(inputs, targets, validation_size=0.2, test_size=0.1)"
   ],
   "id": "1108d5837cb5c21b",
   "execution_count": 4,
   "outputs": []
  },
  {
   "metadata": {
    "ExecuteTime": {
     "end_time": "2024-05-24T15:41:39.764060Z",
     "start_time": "2024-05-24T15:41:39.635154Z"
    }
   },
   "cell_type": "code",
   "source": [
    "# model training \n",
    "# search = logistic.grid_search(x_train, y_train, n_iter=5)\n",
    "# search.best_estimator_\n",
    "naivebayes.fit(x_train, y_train)"
   ],
   "id": "12990baa18305422",
   "execution_count": 5,
   "outputs": []
  },
  {
   "metadata": {
    "ExecuteTime": {
     "end_time": "2024-05-24T15:42:03.436187Z",
     "start_time": "2024-05-24T15:42:03.191507Z"
    }
   },
   "cell_type": "code",
   "source": "naivebayes.save_results(x_test, y_test)",
   "id": "406fb00cbb3151f4",
   "execution_count": 6,
   "outputs": []
  },
  {
   "metadata": {},
   "cell_type": "code",
   "execution_count": null,
   "source": "",
   "id": "75eea95c033b5990",
   "outputs": []
  }
 ],
 "metadata": {
  "kernelspec": {
   "display_name": "Python 3",
   "language": "python",
   "name": "python3"
  },
  "language_info": {
   "codemirror_mode": {
    "name": "ipython",
    "version": 3
   },
   "file_extension": ".py",
   "mimetype": "text/x-python",
   "name": "python",
   "nbconvert_exporter": "python",
   "pygments_lexer": "ipython3",
   "version": "3.11.9"
  }
 },
 "nbformat": 4,
 "nbformat_minor": 5
}
