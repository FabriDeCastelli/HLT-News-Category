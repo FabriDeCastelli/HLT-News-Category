{
 "cells": [
  {
   "cell_type": "code",
   "id": "initial_id",
   "metadata": {
    "collapsed": true,
    "ExecuteTime": {
     "end_time": "2024-05-21T08:28:59.490735Z",
     "start_time": "2024-05-21T08:28:59.486341Z"
    }
   },
   "source": [
    "import warnings\n",
    "import os\n",
    "import sys\n",
    "\n",
    "warnings.filterwarnings('ignore')\n",
    "current_dir = %pwd\n",
    "\n",
    "parent_dir = os.path.abspath(os.path.join(current_dir, '../..'))\n",
    "\n",
    "sys.path.append(parent_dir)"
   ],
   "outputs": [],
   "execution_count": 1
  },
  {
   "metadata": {
    "ExecuteTime": {
     "end_time": "2024-05-21T08:29:04.941625Z",
     "start_time": "2024-05-21T08:28:59.493691Z"
    }
   },
   "cell_type": "code",
   "source": [
    "from src.main.models.naivebayes import Naivebayes\n",
    "from src.main.pipeline.functions import (clean_text, stop_words_removal, stemming, count_vectorizer)\n",
    "from src.main.utilities.utils import get_dataset, split_train_val_test\n",
    "\n",
    "import warnings\n",
    "warnings.filterwarnings(\"ignore\")"
   ],
   "id": "d1ecdb61c2e041da",
   "outputs": [],
   "execution_count": 2
  },
  {
   "metadata": {
    "ExecuteTime": {
     "end_time": "2024-05-21T08:30:30.660932Z",
     "start_time": "2024-05-21T08:30:21.536464Z"
    }
   },
   "cell_type": "code",
   "source": [
    "# define model and pipeline\n",
    "naivebayes = Naivebayes()\n",
    "naivebayes.pipeline = [clean_text, stop_words_removal, stemming, count_vectorizer]\n",
    "\n",
    "# import dataset and apply pipeline\n",
    "inputs, targets = get_dataset()\n",
    "inputs = naivebayes.run_pipeline(inputs, save=True)"
   ],
   "id": "196bedf7cfa12d05",
   "outputs": [
    {
     "name": "stdout",
     "output_type": "stream",
     "text": [
      "Pipeline execution time: 0:00:07.647962\n"
     ]
    }
   ],
   "execution_count": 5
  },
  {
   "metadata": {
    "ExecuteTime": {
     "end_time": "2024-05-21T08:30:34.127354Z",
     "start_time": "2024-05-21T08:30:34.007203Z"
    }
   },
   "cell_type": "code",
   "source": [
    "# stratified train test split\n",
    "x_train, x_val, x_test, y_train, y_val, y_test = split_train_val_test(inputs, targets, validation_size=0.2, test_size=0.1)"
   ],
   "id": "1108d5837cb5c21b",
   "outputs": [],
   "execution_count": 6
  },
  {
   "metadata": {
    "ExecuteTime": {
     "end_time": "2024-05-21T08:30:35.501552Z",
     "start_time": "2024-05-21T08:30:35.366122Z"
    }
   },
   "cell_type": "code",
   "source": [
    "# model training \n",
    "# search = logistic.grid_search(x_train, y_train, n_iter=5)\n",
    "# search.best_estimator_\n",
    "naivebayes.fit(x_train, y_train)"
   ],
   "id": "12990baa18305422",
   "outputs": [],
   "execution_count": 7
  },
  {
   "metadata": {
    "ExecuteTime": {
     "end_time": "2024-05-21T08:30:37.053531Z",
     "start_time": "2024-05-21T08:30:36.562880Z"
    }
   },
   "cell_type": "code",
   "source": [
    "from sklearn.metrics import classification_report\n",
    "from src.main.utilities import plotting\n",
    "\n",
    "y_pred = naivebayes.predict(x_test)\n",
    "print(classification_report(y_test, y_pred))\n",
    "#results = plotting.compute_performance(y_test, y_pred)\n",
    "#plotting.print_performance(results)"
   ],
   "id": "406fb00cbb3151f4",
   "outputs": [
    {
     "name": "stdout",
     "output_type": "stream",
     "text": [
      "               precision    recall  f1-score   support\n",
      "\n",
      "Entertainment       0.76      0.77      0.76      1914\n",
      "         Life       0.89      0.93      0.91      4226\n",
      "     Politics       0.85      0.92      0.88      3190\n",
      "       Sports       0.88      0.56      0.69       436\n",
      "       Voices       0.73      0.51      0.60      1058\n",
      "\n",
      "     accuracy                           0.84     10824\n",
      "    macro avg       0.82      0.74      0.77     10824\n",
      " weighted avg       0.84      0.84      0.84     10824\n",
      "\n"
     ]
    }
   ],
   "execution_count": 8
  },
  {
   "metadata": {},
   "cell_type": "code",
   "outputs": [],
   "execution_count": null,
   "source": "plotting.plot_confusion_matrix(y_test, y_pred)",
   "id": "75eea95c033b5990"
  }
 ],
 "metadata": {
  "kernelspec": {
   "display_name": "Python 3",
   "language": "python",
   "name": "python3"
  },
  "language_info": {
   "codemirror_mode": {
    "name": "ipython",
    "version": 3
   },
   "file_extension": ".py",
   "mimetype": "text/x-python",
   "name": "python",
   "nbconvert_exporter": "python",
   "pygments_lexer": "ipython3",
   "version": "3.11.9"
  }
 },
 "nbformat": 4,
 "nbformat_minor": 5
}
