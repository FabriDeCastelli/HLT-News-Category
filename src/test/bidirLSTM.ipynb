{
 "cells": [
  {
   "cell_type": "code",
   "execution_count": null,
   "metadata": {},
   "outputs": [],
   "source": [
    "!git clone https://github.com/FabriDeCastelli/HLT-News-Category.git\n",
    "\n",
    "import os\n",
    "os.chdir(\"/content/HLT-News-Category/src/test\")"
   ]
  },
  {
   "cell_type": "code",
   "execution_count": 1,
   "metadata": {
    "ExecuteTime": {
     "end_time": "2024-05-19T16:25:16.106899Z",
     "start_time": "2024-05-19T16:25:16.102726Z"
    }
   },
   "outputs": [],
   "source": [
    "import warnings\n",
    "import os\n",
    "import sys\n",
    "\n",
    "warnings.filterwarnings('ignore')\n",
    "current_dir = %pwd\n",
    "\n",
    "parent_dir = os.path.abspath(os.path.join(current_dir, '../..'))\n",
    "sys.path.append(parent_dir)"
   ]
  },
  {
   "cell_type": "code",
   "execution_count": 2,
   "metadata": {
    "ExecuteTime": {
     "end_time": "2024-05-19T16:25:22.455459Z",
     "start_time": "2024-05-19T16:25:16.108071Z"
    }
   },
   "outputs": [],
   "source": [
    "from src.main.models.bidirLSMT import BidirectionalLSTM\n",
    "from src.main.pipeline.functions import clean_text, stop_words_removal, tokenize\n",
    "from src.main.utilities.utils import get_dataset, create_embedding_matrix, load_pretrained_embedddings\n",
    "from sklearn.model_selection import train_test_split\n",
    "from config.config import TENSORBOARD_LOGS, EMBEDDINGS_PATH, glove_file, google_file, fastText_file, VOCAB_SIZE, embedding_matrix\n",
    "import keras as K\n",
    "\n",
    "import warnings\n",
    "warnings.filterwarnings(\"ignore\")"
   ]
  },
  {
   "cell_type": "code",
   "execution_count": 3,
   "metadata": {
    "ExecuteTime": {
     "end_time": "2024-05-19T16:25:22.456540Z",
     "start_time": "2024-05-19T16:25:22.456485Z"
    }
   },
   "outputs": [
    {
     "name": "stdout",
     "output_type": "stream",
     "text": [
      "Pipeline execution time: 0:00:12.002694\n"
     ]
    }
   ],
   "source": [
    "bidirLSTM = BidirectionalLSTM()\n",
    "\n",
    "bidirLSTM.pipeline = [clean_text, stop_words_removal, tokenize]\n",
    "\n",
    "inputs, targets = get_dataset(one_hot=True)\n",
    "inputs = bidirLSTM.run_pipeline(inputs, save=False)\n",
    "\n",
    "VOCAB_SIZE = inputs.shape[0] + 1\n",
    "\n",
    "pretrained_embeddings = load_pretrained_embedddings(os.path.join(EMBEDDINGS_PATH, glove_file), \"glove\")\n",
    "find_ratio, unmached_words = create_embedding_matrix(pretrained_embeddings)\n",
    "\n",
    "# stratified train test split\n",
    "x_train, x_test, y_train, y_test = train_test_split(inputs, targets, test_size=0.2, random_state=42, stratify=targets)"
   ]
  },
  {
   "cell_type": "code",
   "execution_count": 4,
   "metadata": {},
   "outputs": [
    {
     "name": "stdout",
     "output_type": "stream",
     "text": [
      "Find ratio: 0.8738624620820694\n",
      "Unmached tokens count: 3784\n",
      "Unmached words examples:\n",
      "[\"gap'\", \"kong's\", \"runner'\", \"graham's\", \"knight'\", \"i'm\", \"eve'\", 'epa’s', \"'champion\", \"'masterchef\"]\n",
      "[\"tonight'\", \"worker's\", \"'texas\", 'monday’s', \"soul's\", \"supremacist'\", \"candidates'\", 'skyscanner', \"supporters'\", \"devil's\"]\n"
     ]
    }
   ],
   "source": [
    "import random\n",
    "\n",
    "print(\"Find ratio:\", find_ratio)\n",
    "print(\"Unmached tokens count:\", len(unmached_words))\n",
    "print(\"Unmached words examples:\\n\" + str(random.sample(unmached_words, 10)))\n",
    "print(str(random.sample(unmached_words, 10)))"
   ]
  },
  {
   "cell_type": "code",
   "execution_count": 8,
   "metadata": {
    "collapsed": false,
    "jupyter": {
     "outputs_hidden": false
    }
   },
   "outputs": [
    {
     "name": "stdout",
     "output_type": "stream",
     "text": [
      "Trial 1 Complete [00h 14m 45s]\n",
      "val_accuracy: 0.7633382081985474\n",
      "\n",
      "Best val_accuracy So Far: 0.7633382081985474\n",
      "Total elapsed time: 00h 14m 45s\n",
      "\u001b[1m1024/2301\u001b[0m \u001b[32m━━━━━━━━\u001b[0m\u001b[37m━━━━━━━━━━━━\u001b[0m \u001b[1m3:09\u001b[0m 148ms/step - accuracy: 0.4563 - loss: 1.3497"
     ]
    }
   ],
   "source": [
    "callbacks = [\n",
    "    K.callbacks.EarlyStopping(monitor='val_loss', patience=2),\n",
    "    K.callbacks.TensorBoard(TENSORBOARD_LOGS.format(repr(bidirLSTM)))\n",
    "]\n",
    "bidirLSTM.grid_search(x_train, y_train, callbacks=callbacks, validation_split=0.15, n_iter=1, refit=True)"
   ]
  },
  {
   "cell_type": "code",
   "execution_count": null,
   "metadata": {
    "collapsed": false,
    "jupyter": {
     "outputs_hidden": false
    }
   },
   "outputs": [],
   "source": [
    "%load_ext tensorboard\n",
    "%tensorboard --logdir \"{TENSORBOARD_LOGS.format(repr(bidirLSTM))}\" --host localhost"
   ]
  },
  {
   "cell_type": "code",
   "execution_count": null,
   "metadata": {
    "collapsed": false,
    "jupyter": {
     "outputs_hidden": false
    }
   },
   "outputs": [],
   "source": [
    "bidirLSTM.evaluate(x_test, y_test)"
   ]
  },
  {
   "cell_type": "code",
   "execution_count": null,
   "metadata": {
    "collapsed": false,
    "jupyter": {
     "outputs_hidden": false
    }
   },
   "outputs": [],
   "source": [
    "bidirLSTM.save_model()"
   ]
  },
  {
   "cell_type": "code",
   "execution_count": null,
   "metadata": {
    "collapsed": false,
    "jupyter": {
     "outputs_hidden": false
    }
   },
   "outputs": [],
   "source": [
    "a = BidirectionalLSTM.load_model()\n",
    "a.evaluate(x_test, y_test)"
   ]
  },
  {
   "cell_type": "code",
   "execution_count": null,
   "metadata": {},
   "outputs": [],
   "source": []
  }
 ],
 "metadata": {
  "kernelspec": {
   "display_name": "Python 3 (ipykernel)",
   "language": "python",
   "name": "python3"
  },
  "language_info": {
   "codemirror_mode": {
    "name": "ipython",
    "version": 3
   },
   "file_extension": ".py",
   "mimetype": "text/x-python",
   "name": "python",
   "nbconvert_exporter": "python",
   "pygments_lexer": "ipython3",
   "version": "3.12.2"
  }
 },
 "nbformat": 4,
 "nbformat_minor": 4
}
