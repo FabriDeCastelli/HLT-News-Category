{
 "cells": [
  {
   "cell_type": "code",
   "metadata": {
    "ExecuteTime": {
     "end_time": "2024-05-21T20:00:54.104445Z",
     "start_time": "2024-05-21T20:00:54.093162Z"
    }
   },
   "source": [
    "import numpy as np\n",
    "\n",
    "\"\"\"!git clone https://github.com/FabriDeCastelli/HLT-News-Category.git\n",
    "! pip install keras-tuner\n",
    "\n",
    "import os\n",
    "os.chdir(\"/content/HLT-News-Category/src/test\")\"\"\""
   ],
   "outputs": [
    {
     "data": {
      "text/plain": [
       "'!git clone https://github.com/FabriDeCastelli/HLT-News-Category.git\\n! pip install keras-tuner\\n\\nimport os\\nos.chdir(\"/content/HLT-News-Category/src/test\")'"
      ]
     },
     "execution_count": 5,
     "metadata": {},
     "output_type": "execute_result"
    }
   ],
   "execution_count": 5
  },
  {
   "cell_type": "code",
   "metadata": {
    "ExecuteTime": {
     "end_time": "2024-05-21T22:34:48.034974Z",
     "start_time": "2024-05-21T22:34:48.029156Z"
    }
   },
   "source": [
    "import warnings\n",
    "import sys\n",
    "import os\n",
    "\n",
    "\n",
    "warnings.filterwarnings('ignore')\n",
    "current_dir = %pwd\n",
    "\n",
    "parent_dir = os.path.abspath(os.path.join(current_dir, '../..'))\n",
    "sys.path.append(parent_dir)\n",
    "\n",
    "#os.environ[\"CUDA_VISIBLE_DEVICES\"] = \"1\""
   ],
   "outputs": [],
   "execution_count": 1
  },
  {
   "cell_type": "code",
   "metadata": {
    "ExecuteTime": {
     "end_time": "2024-05-21T22:36:41.659621Z",
     "start_time": "2024-05-21T22:36:36.782107Z"
    }
   },
   "source": [
    "from src.main.models.bidirLSMT import BidirectionalLSTM\n",
    "from src.main.pipeline.functions import clean_text, remove_contractions, stop_words_removal, tokenize\n",
    "from src.main.utilities.utils import get_dataset, load_pretrained_embeddings, split_train_val_test, embedding_matrix_statistics\n",
    "import keras as K\n",
    "from config.config import TENSORBOARD_LOGS\n",
    "import os\n",
    "\n",
    "\n",
    "import warnings\n",
    "warnings.filterwarnings(\"ignore\")"
   ],
   "outputs": [],
   "execution_count": 1
  },
  {
   "cell_type": "code",
   "metadata": {
    "ExecuteTime": {
     "end_time": "2024-05-21T22:36:53.284220Z",
     "start_time": "2024-05-21T22:36:41.660554Z"
    }
   },
   "source": [
    "bidirLSTM = BidirectionalLSTM(pretrained_embeddings=None)\n",
    "\n",
    "bidirLSTM.pipeline = [clean_text, remove_contractions, stop_words_removal, tokenize]\n",
    "\n",
    "inputs, targets = get_dataset(one_hot=True)\n",
    "inputs = bidirLSTM.run_pipeline(inputs, save=False)\n",
    "\n",
    "# stratified train test split\n",
    "x_train, x_val, x_test, y_train, y_val, y_test = split_train_val_test(inputs, targets, validation_size=0.2, test_size=0.1)\n"
   ],
   "outputs": [
    {
     "name": "stdout",
     "output_type": "stream",
     "text": [
      "Pipeline execution time: 0:00:09.987138\n"
     ]
    }
   ],
   "execution_count": 2
  },
  {
   "cell_type": "code",
   "metadata": {
    "ExecuteTime": {
     "end_time": "2024-05-21T22:06:32.001263Z",
     "start_time": "2024-05-21T22:06:31.997859Z"
    }
   },
   "source": [
    "\"\"\"import random\n",
    "\n",
    "pretrained_embeddings = load_pretrained_embeddings(\"glove\")\n",
    "find_ratio, unmatched_words = embedding_matrix_statistics(pretrained_embeddings)\n",
    "\n",
    "print(\"Find ratio:\", find_ratio)\n",
    "print(\"Unmached tokens count:\", len(unmatched_words))\n",
    "print(\"Unmached words examples:\\n\" + str(random.sample(unmatched_words, 10)))\n",
    "print(str(random.sample(unmatched_words, 10)))\"\"\""
   ],
   "outputs": [
    {
     "data": {
      "text/plain": [
       "'import random\\n\\npretrained_embeddings = load_pretrained_embeddings(\"glove\")\\nfind_ratio, unmatched_words = embedding_matrix_statistics(pretrained_embeddings)\\n\\nprint(\"Find ratio:\", find_ratio)\\nprint(\"Unmached tokens count:\", len(unmatched_words))\\nprint(\"Unmached words examples:\\n\" + str(random.sample(unmatched_words, 10)))\\nprint(str(random.sample(unmatched_words, 10)))'"
      ]
     },
     "execution_count": 4,
     "metadata": {},
     "output_type": "execute_result"
    }
   ],
   "execution_count": 4
  },
  {
   "cell_type": "code",
   "metadata": {
    "collapsed": false,
    "jupyter": {
     "outputs_hidden": false
    },
    "ExecuteTime": {
     "end_time": "2024-05-21T22:06:32.370585Z",
     "start_time": "2024-05-21T22:06:32.002606Z"
    }
   },
   "source": [
    "callbacks = [\n",
    "    K.callbacks.EarlyStopping(monitor='val_loss', patience=2),\n",
    "    K.callbacks.TensorBoard(TENSORBOARD_LOGS.format(repr(bidirLSTM)))\n",
    "]\n",
    "best_hps = bidirLSTM.grid_search(x_train, y_train, x_val, y_val, callbacks=callbacks, n_iter=50)\n",
    "best_hps.values"
   ],
   "outputs": [
    {
     "name": "stdout",
     "output_type": "stream",
     "text": [
      "Reloading Tuner from /Users/fabriziodecastelli/Desktop/Magistrale/HLT/HLT-News-Category/results/BidirectionalLSTM/BidirectionalLSTM/tuner0.json\n"
     ]
    },
    {
     "data": {
      "text/plain": [
       "{'lstm_units_1': 140,\n",
       " 'lstm_units_2': 40,\n",
       " 'dropout1': 0.3,\n",
       " 'dropout2': 0.2,\n",
       " 'dense1': 20,\n",
       " 'dense2': 30,\n",
       " 'learning_rate': 0.005,\n",
       " 'epochs': 5,\n",
       " 'batch_size': 512}"
      ]
     },
     "execution_count": 5,
     "metadata": {},
     "output_type": "execute_result"
    }
   ],
   "execution_count": 5
  },
  {
   "cell_type": "code",
   "metadata": {
    "collapsed": false,
    "jupyter": {
     "outputs_hidden": false
    },
    "ExecuteTime": {
     "end_time": "2024-05-21T20:35:49.822116Z",
     "start_time": "2024-05-21T20:35:46.751092Z"
    }
   },
   "source": [
    "%load_ext tensorboard\n",
    "%tensorboard --logdir \"{TENSORBOARD_LOGS.format(repr(bidirLSTM))}\" --host localhost"
   ],
   "outputs": [
    {
     "data": {
      "text/plain": [
       "<IPython.core.display.HTML object>"
      ],
      "text/html": [
       "\n",
       "      <iframe id=\"tensorboard-frame-2b7aa5c9aae33e9c\" width=\"100%\" height=\"800\" frameborder=\"0\">\n",
       "      </iframe>\n",
       "      <script>\n",
       "        (function() {\n",
       "          const frame = document.getElementById(\"tensorboard-frame-2b7aa5c9aae33e9c\");\n",
       "          const url = new URL(\"/\", window.location);\n",
       "          const port = 6006;\n",
       "          if (port) {\n",
       "            url.port = port;\n",
       "          }\n",
       "          frame.src = url;\n",
       "        })();\n",
       "      </script>\n",
       "    "
      ]
     },
     "metadata": {},
     "output_type": "display_data"
    }
   ],
   "execution_count": 8
  },
  {
   "cell_type": "code",
   "metadata": {
    "collapsed": false,
    "jupyter": {
     "outputs_hidden": false
    },
    "ExecuteTime": {
     "end_time": "2024-05-21T22:37:12.241759Z",
     "start_time": "2024-05-21T22:37:02.507153Z"
    }
   },
   "source": "bidirLSTM.save_results(x_test, y_test)",
   "outputs": [
    {
     "name": "stdout",
     "output_type": "stream",
     "text": [
      "\u001B[1m339/339\u001B[0m \u001B[32m━━━━━━━━━━━━━━━━━━━━\u001B[0m\u001B[37m\u001B[0m \u001B[1m9s\u001B[0m 28ms/step\n"
     ]
    },
    {
     "data": {
      "text/plain": [
       "<Figure size 800x600 with 1 Axes>"
      ],
      "image/png": "[encoded data removed]"
     },
     "metadata": {},
     "output_type": "display_data"
    }
   ],
   "execution_count": 4
  },
  {
   "cell_type": "code",
   "execution_count": 11,
   "metadata": {
    "collapsed": false,
    "jupyter": {
     "outputs_hidden": false
    }
   },
   "outputs": [],
   "source": [
    "bidirLSTM.save_model()"
   ]
  }
 ],
 "metadata": {
  "kernelspec": {
   "display_name": "Python 3 (ipykernel)",
   "language": "python",
   "name": "python3"
  },
  "language_info": {
   "codemirror_mode": {
    "name": "ipython",
    "version": 3
   },
   "file_extension": ".py",
   "mimetype": "text/x-python",
   "name": "python",
   "nbconvert_exporter": "python",
   "pygments_lexer": "ipython3",
   "version": "3.10.12"
  }
 },
 "nbformat": 4,
 "nbformat_minor": 4
}
