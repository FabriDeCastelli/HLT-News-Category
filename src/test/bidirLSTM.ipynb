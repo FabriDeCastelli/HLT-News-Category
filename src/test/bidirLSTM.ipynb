{
 "cells": [
  {
   "cell_type": "code",
   "execution_count": null,
   "metadata": {},
   "outputs": [],
   "source": [
    "import warnings\n",
    "import os\n",
    "import sys\n",
    "\n",
    "warnings.filterwarnings('ignore')\n",
    "current_dir = %pwd\n",
    "\n",
    "parent_dir = os.path.abspath(os.path.join(current_dir, '../..'))\n",
    "sys.path.append(parent_dir)"
   ]
  },
  {
   "cell_type": "code",
   "execution_count": 2,
   "metadata": {},
   "outputs": [],
   "source": [
    "from src.main.models.bidirLSMT import BidirectionalLSTM\n",
    "from src.main.utilities.utils import clean_text, stop_words_removal, stemming, tfidf_vectorizer, get_dataset\n",
    "from sklearn.model_selection import train_test_split\n",
    "\n",
    "import warnings\n",
    "warnings.filterwarnings(\"ignore\")"
   ]
  },
  {
   "cell_type": "code",
   "execution_count": 3,
   "metadata": {},
   "outputs": [
    {
     "name": "stdout",
     "output_type": "stream",
     "text": [
      "[[<function clean_text at 0x00000283DBFCD300>, <function stop_words_removal at 0x00000283DBFCD1C0>]]\n",
      "Pipeline execution time: 0:00:18.191163\n",
      "['23 funniest tweets cats dogs week sept 1723 dog dont understand could eaten', 'amazon greenlights blade runner 2099 limited series produced ridley scott director original 1982 film joins writer 2017 sequel newest installment scifi franchise', 'emmy awards viewership dips recordlow audience continues drop television awards ceremony lost roughly 15 million viewers compared 2021 program', 'nod jfk joe biden pushing moonshot fight cancer biden plans draw attention new federally backed study seeks validate using blood tests screen multiple cancers', 'politicians dna connected las vegas journalists murder police say clark county public administrator robert telles arrested fatal stabbing jeff german investigating office']\n",
      "2         Entertainment\n",
      "17               Sports\n",
      "20        Entertainment\n",
      "21             Politics\n",
      "24             Politics\n",
      "              ...      \n",
      "209513    Entertainment\n",
      "209523           Sports\n",
      "209524           Sports\n",
      "209525           Sports\n",
      "209526           Sports\n",
      "Name: category, Length: 108238, dtype: object\n"
     ]
    }
   ],
   "source": [
    "#define model and pipeline\n",
    "bidirLSTM = BidirectionalLSTM(vocab_size=10000, embedding_dim=100, max_sequence_length=100, lstm_units=128)\n",
    "bidirLSTM.set_pipeline([clean_text, stop_words_removal])\n",
    "\n",
    "#import dataset and apply pipeline\n",
    "inputs, targets = get_dataset()\n",
    "inputs = bidirLSTM.run_pipeline(inputs, save=False)\n",
    "\n",
    "print(inputs[0:5])\n",
    "print(targets)\n",
    "\n",
    "#stratified train test split\n",
    "x_train, x_test, y_train, y_test = train_test_split(inputs, targets, test_size=0.2, random_state=42, stratify=targets)"
   ]
  },
  {
   "cell_type": "code",
   "execution_count": null,
   "metadata": {},
   "outputs": [],
   "source": [
    "bidirLSTM.fit(x_train, y_train)"
   ]
  },
  {
   "cell_type": "code",
   "execution_count": null,
   "metadata": {},
   "outputs": [],
   "source": [
    "#model predictions\n",
    "\n",
    "y_pred = bidirLSTM.predict(x_test)\n",
    "\n",
    "results = bidirLSTM.compute_performance(y_test, y_pred)\n",
    "bidirLSTM.print_performance(results)\n"
   ]
  }
 ],
 "metadata": {
  "kernelspec": {
   "display_name": "HLT",
   "language": "python",
   "name": "python3"
  },
  "language_info": {
   "codemirror_mode": {
    "name": "ipython",
    "version": 3
   },
   "file_extension": ".py",
   "mimetype": "text/x-python",
   "name": "python",
   "nbconvert_exporter": "python",
   "pygments_lexer": "ipython3",
   "version": "3.11.9"
  }
 },
 "nbformat": 4,
 "nbformat_minor": 2
}
