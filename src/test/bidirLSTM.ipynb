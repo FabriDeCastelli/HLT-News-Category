{
 "cells": [
  {
   "cell_type": "code",
   "execution_count": 1,
   "metadata": {
    "ExecuteTime": {
     "end_time": "2024-05-03T20:40:46.518814Z",
     "start_time": "2024-05-03T20:40:46.512872Z"
    }
   },
   "outputs": [],
   "source": [
    "import warnings\n",
    "import os\n",
    "import sys\n",
    "\n",
    "warnings.filterwarnings('ignore')\n",
    "current_dir = %pwd\n",
    "\n",
    "parent_dir = os.path.abspath(os.path.join(current_dir, '../..'))\n",
    "sys.path.append(parent_dir)"
   ]
  },
  {
   "cell_type": "code",
   "execution_count": 2,
   "metadata": {
    "ExecuteTime": {
     "end_time": "2024-05-03T20:40:50.518839Z",
     "start_time": "2024-05-03T20:40:46.827067Z"
    }
   },
   "outputs": [],
   "source": [
    "from src.main.models.bidirLSMT import BidirectionalLSTM\n",
    "from src.main.pipeline.functions import clean_text, stop_words_removal, tokenize\n",
    "from src.main.utilities.utils import get_dataset\n",
    "from sklearn.model_selection import train_test_split\n",
    "from config.config import TENSORBOARD_LOGS\n",
    "import keras as K\n",
    "\n",
    "import warnings\n",
    "warnings.filterwarnings(\"ignore\")"
   ]
  },
  {
   "cell_type": "code",
   "outputs": [],
   "source": [
    "bidirLSTM = BidirectionalLSTM()\n",
    "\n",
    "bidirLSTM.pipeline = [clean_text, stop_words_removal, tokenize]\n",
    "\n",
    "inputs, targets = get_dataset(one_hot=True)\n",
    "inputs = bidirLSTM.run_pipeline(inputs, save=True)\n",
    "\n",
    "# stratified train test split\n",
    "x_train, x_test, y_train, y_test = train_test_split(inputs, targets, test_size=0.2, random_state=42, stratify=targets)"
   ],
   "metadata": {
    "collapsed": false,
    "ExecuteTime": {
     "end_time": "2024-05-03T20:40:51.839817Z",
     "start_time": "2024-05-03T20:40:50.519727Z"
    }
   },
   "execution_count": 3
  },
  {
   "cell_type": "code",
   "outputs": [
    {
     "name": "stdout",
     "output_type": "stream",
     "text": [
      "Reloading Tuner from /Users/fabriziodecastelli/Desktop/Magistrale/HLT/HLT-News-Category/results/BidirectionalLSTM/BidirectionalLSTM/tuner0.json\n",
      "\u001B[1m2301/2301\u001B[0m \u001B[32m━━━━━━━━━━━━━━━━━━━━\u001B[0m\u001B[37m\u001B[0m \u001B[1m108s\u001B[0m 46ms/step - accuracy: 0.7608 - loss: 0.6848 - val_accuracy: 0.8630 - val_loss: 0.4082\n"
     ]
    },
    {
     "data": {
      "text/plain": "<keras_tuner.src.engine.hyperparameters.hyperparameters.HyperParameters at 0x17c2f2510>"
     },
     "execution_count": 4,
     "metadata": {},
     "output_type": "execute_result"
    }
   ],
   "source": [
    "callbacks = [\n",
    "    K.callbacks.EarlyStopping(monitor='val_loss', patience=2),\n",
    "    K.callbacks.TensorBoard(TENSORBOARD_LOGS.format(repr(bidirLSTM)))\n",
    "]\n",
    "bidirLSTM.grid_search(x_train, y_train, callbacks=callbacks, validation_split=0.15, n_iter=1, refit=True)"
   ],
   "metadata": {
    "collapsed": false,
    "ExecuteTime": {
     "end_time": "2024-05-03T20:42:44.073455Z",
     "start_time": "2024-05-03T20:40:55.895351Z"
    }
   },
   "execution_count": 4
  },
  {
   "cell_type": "code",
   "outputs": [
    {
     "data": {
      "text/plain": "<IPython.core.display.HTML object>",
      "text/html": "\n      <iframe id=\"tensorboard-frame-8891334f44faccdd\" width=\"100%\" height=\"800\" frameborder=\"0\">\n      </iframe>\n      <script>\n        (function() {\n          const frame = document.getElementById(\"tensorboard-frame-8891334f44faccdd\");\n          const url = new URL(\"/\", window.location);\n          const port = 6006;\n          if (port) {\n            url.port = port;\n          }\n          frame.src = url;\n        })();\n      </script>\n    "
     },
     "metadata": {},
     "output_type": "display_data"
    }
   ],
   "source": [
    "%load_ext tensorboard\n",
    "%tensorboard --logdir \"{TENSORBOARD_LOGS.format(repr(bidirLSTM))}\" --host localhost"
   ],
   "metadata": {
    "collapsed": false,
    "ExecuteTime": {
     "end_time": "2024-05-03T20:42:46.618524Z",
     "start_time": "2024-05-03T20:42:44.074394Z"
    }
   },
   "execution_count": 5
  },
  {
   "cell_type": "code",
   "outputs": [
    {
     "name": "stdout",
     "output_type": "stream",
     "text": [
      "\u001B[1m677/677\u001B[0m \u001B[32m━━━━━━━━━━━━━━━━━━━━\u001B[0m\u001B[37m\u001B[0m \u001B[1m4s\u001B[0m 6ms/step - accuracy: 0.8631 - loss: 0.3995\n"
     ]
    },
    {
     "data": {
      "text/plain": "[0.41182562708854675, 0.8597099184989929]"
     },
     "execution_count": 6,
     "metadata": {},
     "output_type": "execute_result"
    }
   ],
   "source": [
    "bidirLSTM.evaluate(x_test, y_test)"
   ],
   "metadata": {
    "collapsed": false,
    "ExecuteTime": {
     "end_time": "2024-05-03T20:42:50.529971Z",
     "start_time": "2024-05-03T20:42:46.620340Z"
    }
   },
   "execution_count": 6
  },
  {
   "cell_type": "code",
   "outputs": [],
   "source": [
    "bidirLSTM.save_model()"
   ],
   "metadata": {
    "collapsed": false,
    "ExecuteTime": {
     "end_time": "2024-05-03T20:42:50.666435Z",
     "start_time": "2024-05-03T20:42:50.531190Z"
    }
   },
   "execution_count": 7
  },
  {
   "cell_type": "code",
   "outputs": [],
   "source": [],
   "metadata": {
    "collapsed": false
   }
  }
 ],
 "metadata": {
  "kernelspec": {
   "display_name": "HLT",
   "language": "python",
   "name": "python3"
  },
  "language_info": {
   "codemirror_mode": {
    "name": "ipython",
    "version": 3
   },
   "file_extension": ".py",
   "mimetype": "text/x-python",
   "name": "python",
   "nbconvert_exporter": "python",
   "pygments_lexer": "ipython3",
   "version": "3.12.2"
  }
 },
 "nbformat": 4,
 "nbformat_minor": 2
}
