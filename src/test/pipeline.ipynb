{
 "cells": [
  {
   "cell_type": "code",
   "execution_count": 1,
   "metadata": {},
   "outputs": [],
   "source": [
    "import warnings\n",
    "import sys\n",
    "import os\n",
    "\n",
    "\n",
    "warnings.filterwarnings('ignore')\n",
    "current_dir = %pwd\n",
    "\n",
    "parent_dir = os.path.abspath(os.path.join(current_dir, '../..'))\n",
    "sys.path.append(parent_dir)\n",
    "\n",
    "#os.environ[\"CUDA_VISIBLE_DEVICES\"] = \"1\""
   ]
  },
  {
   "cell_type": "code",
   "execution_count": 2,
   "metadata": {},
   "outputs": [
    {
     "name": "stderr",
     "output_type": "stream",
     "text": [
      "2024-05-24 17:19:47.133283: I tensorflow/core/platform/cpu_feature_guard.cc:210] This TensorFlow binary is optimized to use available CPU instructions in performance-critical operations.\n",
      "To enable the following instructions: AVX2 FMA, in other operations, rebuild TensorFlow with the appropriate compiler flags.\n"
     ]
    }
   ],
   "source": [
    "from src.main.pipeline.pipeline import Pipeline\n",
    "from src.main.pipeline.functions import stop_words_removal, clean_text, remove_contractions, unify_numbers, tfidf_vectorizer\n",
    "from src.main.utilities.utils import get_dataset\n",
    "import numpy as np"
   ]
  },
  {
   "cell_type": "markdown",
   "metadata": {},
   "source": [
    "### **Pipeline preprocessing** ###\n",
    "The following section will show some sample sentences from the dataset to demonstrate the effects of the preprocessing pipeline. Each example will show the outcome of applying different preprocessing functions, such as tokenization, stopword removal, etc. This will illustrate how each step in the preprocessing pipeline transforms the text data. \n"
   ]
  },
  {
   "cell_type": "code",
   "execution_count": 3,
   "metadata": {},
   "outputs": [
    {
     "name": "stdout",
     "output_type": "stream",
     "text": [
      "Class: Entertainment\n",
      "23 Of The Funniest Tweets About Cats And Dogs This Week (Sept. 17-23) \"Until you have a dog you don't understand what could be eaten.\"\n",
      "\n",
      "Class: Life\n",
      "6 Signs You’re Grinding Your Teeth At Night (And What To Do About It) Beyond toothaches, there are other common red flags that you're dealing with nighttime teeth grinding.\n",
      "\n",
      "Class: Politics\n",
      "Biden Says U.S. Forces Would Defend Taiwan If China Invaded President issues vow as tensions with China rise.\n",
      "\n",
      "Class: Sports\n",
      "Maury Wills, Base-Stealing Shortstop For Dodgers, Dies At 89 Maury Wills, who helped the Los Angeles Dodgers win three World Series titles with his base-stealing prowess, has died.\n",
      "\n",
      "Class: Voices\n",
      "Spirituality Has A New Face — And It’s Queer As Hell Meet three spiritual leaders working hard for queer people to have a safe space in the religious community.\n",
      "\n"
     ]
    }
   ],
   "source": [
    "\n",
    "inputs, targets = get_dataset()\n",
    "inputs = inputs[:200].reshape(-1, 1)\n",
    "targets = targets[:200]\n",
    "\n",
    "# Showing one text example for each class from the dataset\n",
    "def print_results(inputs, targets):\n",
    "    unique_classes = np.unique(targets)\n",
    "    for class_name in unique_classes:\n",
    "        class_index = np.where(targets == class_name)[0][0]\n",
    "        print(f\"Class: {class_name}\")\n",
    "        print(inputs[class_index][0])\n",
    "        print()\n",
    "\n",
    "print_results(inputs, targets)"
   ]
  },
  {
   "cell_type": "code",
   "execution_count": 5,
   "metadata": {},
   "outputs": [
    {
     "name": "stdout",
     "output_type": "stream",
     "text": [
      "Pipeline started\n"
     ]
    },
    {
     "name": "stderr",
     "output_type": "stream",
     "text": [
      "2024-05-24 17:20:01.045709: I tensorflow/core/platform/cpu_feature_guard.cc:210] This TensorFlow binary is optimized to use available CPU instructions in performance-critical operations.\n",
      "To enable the following instructions: AVX2 FMA, in other operations, rebuild TensorFlow with the appropriate compiler flags.\n",
      "2024-05-24 17:20:01.090604: I tensorflow/core/platform/cpu_feature_guard.cc:210] This TensorFlow binary is optimized to use available CPU instructions in performance-critical operations.\n",
      "To enable the following instructions: AVX2 FMA, in other operations, rebuild TensorFlow with the appropriate compiler flags.\n",
      "2024-05-24 17:20:01.105854: I tensorflow/core/platform/cpu_feature_guard.cc:210] This TensorFlow binary is optimized to use available CPU instructions in performance-critical operations.\n",
      "To enable the following instructions: AVX2 FMA, in other operations, rebuild TensorFlow with the appropriate compiler flags.\n",
      "2024-05-24 17:20:01.128834: I tensorflow/core/platform/cpu_feature_guard.cc:210] This TensorFlow binary is optimized to use available CPU instructions in performance-critical operations.\n",
      "To enable the following instructions: AVX2 FMA, in other operations, rebuild TensorFlow with the appropriate compiler flags.\n",
      "2024-05-24 17:20:01.143740: I tensorflow/core/platform/cpu_feature_guard.cc:210] This TensorFlow binary is optimized to use available CPU instructions in performance-critical operations.\n",
      "To enable the following instructions: AVX2 FMA, in other operations, rebuild TensorFlow with the appropriate compiler flags.\n",
      "2024-05-24 17:20:01.172386: I tensorflow/core/platform/cpu_feature_guard.cc:210] This TensorFlow binary is optimized to use available CPU instructions in performance-critical operations.\n",
      "To enable the following instructions: AVX2 FMA, in other operations, rebuild TensorFlow with the appropriate compiler flags.\n",
      "2024-05-24 17:20:01.230316: I tensorflow/core/platform/cpu_feature_guard.cc:210] This TensorFlow binary is optimized to use available CPU instructions in performance-critical operations.\n",
      "To enable the following instructions: AVX2 FMA, in other operations, rebuild TensorFlow with the appropriate compiler flags.\n",
      "2024-05-24 17:20:01.244042: I tensorflow/core/platform/cpu_feature_guard.cc:210] This TensorFlow binary is optimized to use available CPU instructions in performance-critical operations.\n",
      "To enable the following instructions: AVX2 FMA, in other operations, rebuild TensorFlow with the appropriate compiler flags.\n",
      "2024-05-24 17:20:01.285459: I tensorflow/core/platform/cpu_feature_guard.cc:210] This TensorFlow binary is optimized to use available CPU instructions in performance-critical operations.\n",
      "To enable the following instructions: AVX2 FMA, in other operations, rebuild TensorFlow with the appropriate compiler flags.\n",
      "2024-05-24 17:20:01.319760: I tensorflow/core/platform/cpu_feature_guard.cc:210] This TensorFlow binary is optimized to use available CPU instructions in performance-critical operations.\n",
      "To enable the following instructions: AVX2 FMA, in other operations, rebuild TensorFlow with the appropriate compiler flags.\n",
      "2024-05-24 17:20:01.320918: I tensorflow/core/platform/cpu_feature_guard.cc:210] This TensorFlow binary is optimized to use available CPU instructions in performance-critical operations.\n",
      "To enable the following instructions: AVX2 FMA, in other operations, rebuild TensorFlow with the appropriate compiler flags.\n",
      "2024-05-24 17:20:01.321901: I tensorflow/core/platform/cpu_feature_guard.cc:210] This TensorFlow binary is optimized to use available CPU instructions in performance-critical operations.\n",
      "To enable the following instructions: AVX2 FMA, in other operations, rebuild TensorFlow with the appropriate compiler flags.\n",
      "2024-05-24 17:20:01.334227: I tensorflow/core/platform/cpu_feature_guard.cc:210] This TensorFlow binary is optimized to use available CPU instructions in performance-critical operations.\n",
      "To enable the following instructions: AVX2 FMA, in other operations, rebuild TensorFlow with the appropriate compiler flags.\n",
      "2024-05-24 17:20:01.350417: I tensorflow/core/platform/cpu_feature_guard.cc:210] This TensorFlow binary is optimized to use available CPU instructions in performance-critical operations.\n",
      "To enable the following instructions: AVX2 FMA, in other operations, rebuild TensorFlow with the appropriate compiler flags.\n",
      "2024-05-24 17:20:01.366014: I tensorflow/core/platform/cpu_feature_guard.cc:210] This TensorFlow binary is optimized to use available CPU instructions in performance-critical operations.\n",
      "To enable the following instructions: AVX2 FMA, in other operations, rebuild TensorFlow with the appropriate compiler flags.\n",
      "2024-05-24 17:20:01.388114: I tensorflow/core/platform/cpu_feature_guard.cc:210] This TensorFlow binary is optimized to use available CPU instructions in performance-critical operations.\n",
      "To enable the following instructions: AVX2 FMA, in other operations, rebuild TensorFlow with the appropriate compiler flags.\n"
     ]
    },
    {
     "name": "stdout",
     "output_type": "stream",
     "text": [
      "Pipeline execution time: 0:00:17.870852\n",
      "Class: Entertainment\n",
      "23 Of The Funniest Tweets About Cats And Dogs This Week (Sept. 17-23) \"Until you have a dog you do not understand what could be eaten.\"\n",
      "\n",
      "Class: Life\n",
      "6 Signs You are Grinding Your Teeth At Night (And What To Do About It) Beyond toothaches, there are other common red flags that you are dealing with nighttime teeth grinding.\n",
      "\n",
      "Class: Politics\n",
      "Biden Says YOU.S. Forces Would Defend Taiwan If China Invaded President issues vow as tensions with China rise.\n",
      "\n",
      "Class: Sports\n",
      "Maury Wills, Base-Stealing Shortstop For Dodgers, Dies At 89 Maury Wills, who helped the Los Angeles Dodgers win three World Series titles with his base-stealing prowess, has died.\n",
      "\n",
      "Class: Voices\n",
      "Spirituality Has A New Face — And It is Queer As Hell Meet three spiritual leaders working hard for queer people to have a safe space in the religious community.\n",
      "\n"
     ]
    }
   ],
   "source": [
    "# Removing contractions\n",
    "pipeline = Pipeline([remove_contractions])\n",
    "\n",
    "results = pipeline.execute(inputs)\n",
    "\n",
    "print_results(results.reshape(-1, 1), targets)"
   ]
  },
  {
   "cell_type": "code",
   "execution_count": 7,
   "metadata": {},
   "outputs": [
    {
     "name": "stdout",
     "output_type": "stream",
     "text": [
      "Pipeline started\n"
     ]
    },
    {
     "name": "stderr",
     "output_type": "stream",
     "text": [
      "2024-05-24 17:41:27.043422: I tensorflow/core/platform/cpu_feature_guard.cc:210] This TensorFlow binary is optimized to use available CPU instructions in performance-critical operations.\n",
      "To enable the following instructions: AVX2 FMA, in other operations, rebuild TensorFlow with the appropriate compiler flags.\n",
      "2024-05-24 17:41:27.046298: I tensorflow/core/platform/cpu_feature_guard.cc:210] This TensorFlow binary is optimized to use available CPU instructions in performance-critical operations.\n",
      "To enable the following instructions: AVX2 FMA, in other operations, rebuild TensorFlow with the appropriate compiler flags.\n",
      "2024-05-24 17:41:27.082374: I tensorflow/core/platform/cpu_feature_guard.cc:210] This TensorFlow binary is optimized to use available CPU instructions in performance-critical operations.\n",
      "To enable the following instructions: AVX2 FMA, in other operations, rebuild TensorFlow with the appropriate compiler flags.\n",
      "2024-05-24 17:41:27.099292: I tensorflow/core/platform/cpu_feature_guard.cc:210] This TensorFlow binary is optimized to use available CPU instructions in performance-critical operations.\n",
      "To enable the following instructions: AVX2 FMA, in other operations, rebuild TensorFlow with the appropriate compiler flags.\n",
      "2024-05-24 17:41:27.112685: I tensorflow/core/platform/cpu_feature_guard.cc:210] This TensorFlow binary is optimized to use available CPU instructions in performance-critical operations.\n",
      "To enable the following instructions: AVX2 FMA, in other operations, rebuild TensorFlow with the appropriate compiler flags.\n",
      "2024-05-24 17:41:27.113257: I tensorflow/core/platform/cpu_feature_guard.cc:210] This TensorFlow binary is optimized to use available CPU instructions in performance-critical operations.\n",
      "To enable the following instructions: AVX2 FMA, in other operations, rebuild TensorFlow with the appropriate compiler flags.\n",
      "2024-05-24 17:41:27.114115: I tensorflow/core/platform/cpu_feature_guard.cc:210] This TensorFlow binary is optimized to use available CPU instructions in performance-critical operations.\n",
      "To enable the following instructions: AVX2 FMA, in other operations, rebuild TensorFlow with the appropriate compiler flags.\n",
      "2024-05-24 17:41:27.131559: I tensorflow/core/platform/cpu_feature_guard.cc:210] This TensorFlow binary is optimized to use available CPU instructions in performance-critical operations.\n",
      "To enable the following instructions: AVX2 FMA, in other operations, rebuild TensorFlow with the appropriate compiler flags.\n",
      "2024-05-24 17:41:27.142682: I tensorflow/core/platform/cpu_feature_guard.cc:210] This TensorFlow binary is optimized to use available CPU instructions in performance-critical operations.\n",
      "To enable the following instructions: AVX2 FMA, in other operations, rebuild TensorFlow with the appropriate compiler flags.\n",
      "2024-05-24 17:41:27.157412: I tensorflow/core/platform/cpu_feature_guard.cc:210] This TensorFlow binary is optimized to use available CPU instructions in performance-critical operations.\n",
      "To enable the following instructions: AVX2 FMA, in other operations, rebuild TensorFlow with the appropriate compiler flags.\n",
      "2024-05-24 17:41:27.178578: I tensorflow/core/platform/cpu_feature_guard.cc:210] This TensorFlow binary is optimized to use available CPU instructions in performance-critical operations.\n",
      "To enable the following instructions: AVX2 FMA, in other operations, rebuild TensorFlow with the appropriate compiler flags.\n",
      "2024-05-24 17:41:27.191101: I tensorflow/core/platform/cpu_feature_guard.cc:210] This TensorFlow binary is optimized to use available CPU instructions in performance-critical operations.\n",
      "To enable the following instructions: AVX2 FMA, in other operations, rebuild TensorFlow with the appropriate compiler flags.\n",
      "2024-05-24 17:41:27.249995: I tensorflow/core/platform/cpu_feature_guard.cc:210] This TensorFlow binary is optimized to use available CPU instructions in performance-critical operations.\n",
      "To enable the following instructions: AVX2 FMA, in other operations, rebuild TensorFlow with the appropriate compiler flags.\n",
      "2024-05-24 17:41:27.265707: I tensorflow/core/platform/cpu_feature_guard.cc:210] This TensorFlow binary is optimized to use available CPU instructions in performance-critical operations.\n",
      "To enable the following instructions: AVX2 FMA, in other operations, rebuild TensorFlow with the appropriate compiler flags.\n",
      "2024-05-24 17:41:27.338864: I tensorflow/core/platform/cpu_feature_guard.cc:210] This TensorFlow binary is optimized to use available CPU instructions in performance-critical operations.\n",
      "To enable the following instructions: AVX2 FMA, in other operations, rebuild TensorFlow with the appropriate compiler flags.\n",
      "2024-05-24 17:41:27.369156: I tensorflow/core/platform/cpu_feature_guard.cc:210] This TensorFlow binary is optimized to use available CPU instructions in performance-critical operations.\n",
      "To enable the following instructions: AVX2 FMA, in other operations, rebuild TensorFlow with the appropriate compiler flags.\n"
     ]
    },
    {
     "name": "stdout",
     "output_type": "stream",
     "text": [
      "Pipeline execution time: 0:00:38.175287\n",
      "Class: Entertainment\n",
      "23 of the funniest tweets about cats and dogs this week (sept  17 23)  until you have a dog you do not understand what could be eaten  \n",
      "\n",
      "Class: Life\n",
      "6 signs you are grinding your teeth at night (and what to do about it) beyond toothaches  there are other common red flags that you are dealing with nighttime teeth grinding \n",
      "\n",
      "Class: Politics\n",
      "biden says you s  forces would defend taiwan if china invaded president issues vow as tensions with china rise \n",
      "\n",
      "Class: Sports\n",
      "maury wills  base stealing shortstop for dodgers  dies at 89 maury wills  who helped the los angeles dodgers win three world series titles with his base stealing prowess  has died \n",
      "\n",
      "Class: Voices\n",
      "spirituality has a new face  and it is queer as hell meet three spiritual leaders working hard for queer people to have a safe space in the religious community \n",
      "\n"
     ]
    }
   ],
   "source": [
    "# Cleaning the text\n",
    "pipeline = Pipeline([remove_contractions, clean_text])\n",
    "\n",
    "results = pipeline.execute(inputs)\n",
    "\n",
    "print_results(results.reshape(-1, 1), targets)\n"
   ]
  },
  {
   "cell_type": "code",
   "execution_count": 8,
   "metadata": {},
   "outputs": [
    {
     "name": "stdout",
     "output_type": "stream",
     "text": [
      "Pipeline started\n",
      "Pipeline execution time: 0:00:00.109043\n",
      "Class: Entertainment\n",
      "23 funniest tweets cats dogs week (sept  17 23)  dog understand could eaten  \n",
      "\n",
      "Class: Life\n",
      "6 signs grinding teeth night (and it) beyond toothaches  common red flags dealing nighttime teeth grinding \n",
      "\n",
      "Class: Politics\n",
      "biden says  forces would defend taiwan china invaded president issues vow tensions china rise \n",
      "\n",
      "Class: Sports\n",
      "maury wills  base stealing shortstop dodgers  dies 89 maury wills  helped los angeles dodgers win three world series titles base stealing prowess  died \n",
      "\n",
      "Class: Voices\n",
      "spirituality new face  queer hell meet three spiritual leaders working hard queer people safe space religious community \n",
      "\n"
     ]
    }
   ],
   "source": [
    "# Removing stop words\n",
    "pipeline = Pipeline([remove_contractions, clean_text, stop_words_removal])\n",
    "\n",
    "results = pipeline.execute(inputs)\n",
    "\n",
    "print_results(results.reshape(-1, 1), targets)"
   ]
  },
  {
   "cell_type": "code",
   "execution_count": 11,
   "metadata": {},
   "outputs": [
    {
     "name": "stdout",
     "output_type": "stream",
     "text": [
      "Pipeline started\n",
      "Pipeline execution time: 0:00:00.038857\n",
      "Class: Entertainment\n",
      "[NUM] funniest tweets cats dogs week (sept  [NUM] [NUM])  dog understand could eaten  \n",
      "\n",
      "Class: Life\n",
      "[NUM] signs grinding teeth night (and it) beyond toothaches  common red flags dealing nighttime teeth grinding \n",
      "\n",
      "Class: Politics\n",
      "biden says  forces would defend taiwan china invaded president issues vow tensions china rise \n",
      "\n",
      "Class: Sports\n",
      "maury wills  base stealing shortstop dodgers  dies [NUM] maury wills  helped los angeles dodgers win three world series titles base stealing prowess  died \n",
      "\n",
      "Class: Voices\n",
      "spirituality new face  queer hell meet three spiritual leaders working hard queer people safe space religious community \n",
      "\n"
     ]
    }
   ],
   "source": [
    "# Unifying numbers\n",
    "pipeline = Pipeline([remove_contractions, clean_text, stop_words_removal, unify_numbers])\n",
    "\n",
    "results = pipeline.execute(inputs)\n",
    "\n",
    "print_results(results.reshape(-1, 1), targets)\n"
   ]
  },
  {
   "cell_type": "code",
   "execution_count": 14,
   "metadata": {},
   "outputs": [
    {
     "name": "stdout",
     "output_type": "stream",
     "text": [
      "Pipeline started\n",
      "Pipeline execution time: 0:00:00.088347\n",
      "[<200x2341 sparse matrix of type '<class 'numpy.float64'>'\n",
      " \twith 3882 stored elements in Compressed Sparse Row format>]\n"
     ]
    }
   ],
   "source": [
    "# TF-IDF Vectorization\n",
    "pipeline = Pipeline([remove_contractions, clean_text, stop_words_removal, unify_numbers, tfidf_vectorizer])\n",
    "\n",
    "results = pipeline.execute(inputs)\n",
    "\n",
    "print(results)\n"
   ]
  }
 ],
 "metadata": {
  "kernelspec": {
   "display_name": "HLT",
   "language": "python",
   "name": "python3"
  },
  "language_info": {
   "codemirror_mode": {
    "name": "ipython",
    "version": 3
   },
   "file_extension": ".py",
   "mimetype": "text/x-python",
   "name": "python",
   "nbconvert_exporter": "python",
   "pygments_lexer": "ipython3",
   "version": "3.10.14"
  }
 },
 "nbformat": 4,
 "nbformat_minor": 2
}
