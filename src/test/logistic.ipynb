{
 "cells": [
  {
   "cell_type": "code",
   "id": "0c489f79",
   "metadata": {
    "ExecuteTime": {
     "end_time": "2024-05-23T16:17:14.082084Z",
     "start_time": "2024-05-23T16:17:14.079589Z"
    }
   },
   "source": [
    "import warnings\n",
    "import os\n",
    "import sys\n",
    "\n",
    "warnings.filterwarnings('ignore')\n",
    "current_dir = %pwd\n",
    "\n",
    "parent_dir = os.path.abspath(os.path.join(current_dir, '../..'))\n",
    "\n",
    "sys.path.append(parent_dir)"
   ],
   "execution_count": 1,
   "outputs": []
  },
  {
   "cell_type": "code",
   "id": "initial_id",
   "metadata": {
    "ExecuteTime": {
     "end_time": "2024-05-24T09:00:19.545390Z",
     "start_time": "2024-05-24T09:00:11.595660Z"
    }
   },
   "source": [
    "from src.main.models.logistic import Logistic\n",
    "from src.main.utilities.utils import get_dataset\n",
    "from src.main.pipeline.functions import stop_words_removal, stemming, select_features, count_vectorizer, tfidf_transformer, clean_text, remove_contractions\n",
    "from sklearn.model_selection import train_test_split\n",
    "\n",
    "import warnings\n",
    "warnings.filterwarnings(\"ignore\")"
   ],
   "execution_count": 1,
   "outputs": []
  },
  {
   "cell_type": "code",
   "id": "2b3a5c7e0814c84a",
   "metadata": {
    "ExecuteTime": {
     "end_time": "2024-05-24T09:00:20.666150Z",
     "start_time": "2024-05-24T09:00:19.546344Z"
    }
   },
   "source": [
    "# define model and pipeline\n",
    "inputs, targets = get_dataset()\n",
    "logistic = Logistic(verbose=False, multi_class=\"multinomial\", n_jobs=-1, max_iter=1000)\n",
    "logistic.pipeline = [remove_contractions, clean_text, stop_words_removal, stemming, count_vectorizer]\n",
    "\n",
    "# import dataset and apply pipeline\n",
    "inputs = logistic.run_pipeline(inputs, save=True)"
   ],
   "execution_count": 2,
   "outputs": []
  },
  {
   "metadata": {
    "ExecuteTime": {
     "end_time": "2024-05-24T09:00:20.879103Z",
     "start_time": "2024-05-24T09:00:20.667026Z"
    }
   },
   "cell_type": "code",
   "source": [
    "inputs = select_features(inputs, targets, k=10000)\n",
    "inputs = tfidf_transformer(inputs)"
   ],
   "id": "73460c28",
   "execution_count": 3,
   "outputs": []
  },
  {
   "cell_type": "code",
   "id": "d0bccfcac599362",
   "metadata": {
    "collapsed": false,
    "ExecuteTime": {
     "end_time": "2024-05-23T16:49:50.776011Z",
     "start_time": "2024-05-23T16:49:50.712372Z"
    }
   },
   "source": [
    "# stratified train test split\n",
    "x_train, x_test, y_train, y_test = train_test_split(inputs, targets, test_size=0.2, random_state=42, stratify=targets)"
   ],
   "execution_count": 13,
   "outputs": []
  },
  {
   "cell_type": "code",
   "id": "3e54d806fe96611f",
   "metadata": {
    "collapsed": false,
    "ExecuteTime": {
     "end_time": "2024-05-23T16:51:22.435734Z",
     "start_time": "2024-05-23T16:49:56.360618Z"
    }
   },
   "source": [
    "# model training \n",
    "search = logistic.grid_search(x_train, y_train, n_iter=50)\n",
    "search.best_estimator_\n",
    "# logistic.fit(x_train, y_train)"
   ],
   "execution_count": 14,
   "outputs": []
  },
  {
   "cell_type": "code",
   "id": "620e0a1c9db32849",
   "metadata": {
    "ExecuteTime": {
     "end_time": "2024-05-23T16:51:22.439127Z",
     "start_time": "2024-05-23T16:51:22.436748Z"
    }
   },
   "source": [
    "search.cv_results_\n",
    "search.best_score_"
   ],
   "execution_count": 15,
   "outputs": []
  },
  {
   "cell_type": "code",
   "id": "873bf2e55cb05285",
   "metadata": {
    "collapsed": false,
    "ExecuteTime": {
     "end_time": "2024-05-23T16:49:29.775946Z",
     "start_time": "2024-05-23T16:49:29.298199Z"
    }
   },
   "source": "logistic.save_results(x_test, y_test)",
   "execution_count": 10,
   "outputs": []
  },
  {
   "metadata": {},
   "cell_type": "code",
   "execution_count": null,
   "source": "",
   "id": "63fbe23ada478c72",
   "outputs": []
  }
 ],
 "metadata": {
  "kernelspec": {
   "display_name": "Python 3 (ipykernel)",
   "language": "python",
   "name": "python3"
  },
  "language_info": {
   "codemirror_mode": {
    "name": "ipython",
    "version": 3
   },
   "file_extension": ".py",
   "mimetype": "text/x-python",
   "name": "python",
   "nbconvert_exporter": "python",
   "pygments_lexer": "ipython3",
   "version": "3.11.9"
  }
 },
 "nbformat": 4,
 "nbformat_minor": 5
}
