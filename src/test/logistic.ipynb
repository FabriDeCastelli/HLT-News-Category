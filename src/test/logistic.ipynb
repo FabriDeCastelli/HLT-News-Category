{
 "cells": [
  {
   "cell_type": "code",
   "execution_count": null,
   "id": "0c489f79",
   "metadata": {},
   "outputs": [],
   "source": [
    "import warnings\n",
    "import os\n",
    "import sys\n",
    "\n",
    "warnings.filterwarnings('ignore')\n",
    "current_dir = %pwd\n",
    "\n",
    "parent_dir = os.path.abspath(os.path.join(current_dir, '../..'))\n",
    "\n",
    "sys.path.append(parent_dir)"
   ]
  },
  {
   "cell_type": "code",
   "execution_count": null,
   "id": "initial_id",
   "metadata": {},
   "outputs": [],
   "source": [
    "from src.main.models.logistic import Logistic\n",
    "from src.main.utilities.utils import clean_text, stop_words_removal, stemming, tfidf_vectorizer, get_dataset\n",
    "from sklearn.model_selection import train_test_split\n",
    "\n",
    "import warnings\n",
    "warnings.filterwarnings(\"ignore\")"
   ]
  },
  {
   "cell_type": "code",
   "execution_count": null,
   "id": "c953de5c58595d01",
   "metadata": {
    "collapsed": false
   },
   "outputs": [],
   "source": [
    "# define model and pipeline\n",
    "logistic = Logistic(verbose=False, multi_class=\"multinomial\", n_jobs=-1, max_iter=1000)\n",
    "logistic.set_pipeline([clean_text, stop_words_removal, stemming, tfidf_vectorizer])\n",
    "\n",
    "# import dataset and apply pipeline\n",
    "inputs, targets = get_dataset()\n",
    "inputs = logistic.run_pipeline(inputs, save=True)"
   ]
  },
  {
   "cell_type": "code",
   "outputs": [],
   "source": [
    "\n",
    "# stratified train test split\n",
    "x_train, x_test, y_train, y_test = train_test_split(inputs, targets, test_size=0.2, random_state=42, stratify=targets)\n",
    "\n",
    "# print(y_train.value_counts(normalize=True) * 100)"
   ],
   "metadata": {
    "collapsed": false
   },
   "id": "d0bccfcac599362",
   "execution_count": null
  },
  {
   "cell_type": "code",
   "execution_count": null,
   "id": "3e54d806fe96611f",
   "metadata": {
    "collapsed": false
   },
   "outputs": [],
   "source": [
    "# model training \n",
    "# search = logistic.grid_search(x_train, y_train, n_iter=5)\n",
    "# search.best_estimator_\n",
    "logistic.fit(x_train, y_train)"
   ]
  },
  {
   "cell_type": "code",
   "execution_count": null,
   "id": "620e0a1c9db32849",
   "metadata": {},
   "outputs": [],
   "source": [
    "# search.cv_results_\n",
    "# search.best_score_"
   ]
  },
  {
   "cell_type": "code",
   "execution_count": null,
   "id": "873bf2e55cb05285",
   "metadata": {
    "collapsed": false
   },
   "outputs": [],
   "source": [
    "# model predictions\n",
    "\n",
    "y_pred = logistic.predict(x_test)\n",
    "\n",
    "results = logistic.compute_performance(y_test, y_pred)\n",
    "logistic.print_performance(results)\n"
   ]
  },
  {
   "cell_type": "code",
   "execution_count": null,
   "id": "4e635d4ab39a1ec5",
   "metadata": {
    "collapsed": false
   },
   "outputs": [],
   "source": [
    "logistic.plot_confusion_matrix(y_test, y_pred)"
   ]
  },
  {
   "cell_type": "code",
   "execution_count": null,
   "id": "54ba26ba0f1f6f63",
   "metadata": {},
   "outputs": [],
   "source": [
    "logistic.plot_performance(results)"
   ]
  },
  {
   "cell_type": "code",
   "execution_count": null,
   "id": "9ff89a712d78e13e",
   "metadata": {},
   "outputs": [],
   "source": [
    "from sklearn.metrics import get_scorer_names\n",
    "get_scorer_names()"
   ]
  },
  {
   "cell_type": "code",
   "execution_count": null,
   "id": "67dd53143056167",
   "metadata": {},
   "outputs": [],
   "source": []
  },
  {
   "cell_type": "code",
   "execution_count": null,
   "id": "2b83e18e-a647-49b7-9a0b-3d3b963b4e57",
   "metadata": {},
   "outputs": [],
   "source": [
    "import multiprocessing\n",
    "\n",
    "multiprocessing.cpu_count()"
   ]
  },
  {
   "cell_type": "code",
   "execution_count": null,
   "id": "c4728c65-b429-48a1-af90-084595327c9e",
   "metadata": {},
   "outputs": [],
   "source": [
    "import socket\n",
    "\n",
    "hostname = socket.gethostname()\n",
    "ip_address = socket.gethostbyname(hostname)\n",
    "\n",
    "print(\"Hostname:\", hostname)\n",
    "print(\"IP Address:\", ip_address)"
   ]
  },
  {
   "cell_type": "code",
   "execution_count": null,
   "id": "734a92be-3d70-4b1a-a391-f8e40bf2ff24",
   "metadata": {},
   "outputs": [],
   "source": []
  }
 ],
 "metadata": {
  "kernelspec": {
   "display_name": "HLT",
   "language": "python",
   "name": "hlt"
  },
  "language_info": {
   "codemirror_mode": {
    "name": "ipython",
    "version": 3
   },
   "file_extension": ".py",
   "mimetype": "text/x-python",
   "name": "python",
   "nbconvert_exporter": "python",
   "pygments_lexer": "ipython3",
   "version": "3.11.8"
  }
 },
 "nbformat": 4,
 "nbformat_minor": 5
}
