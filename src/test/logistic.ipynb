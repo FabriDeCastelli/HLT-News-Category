{
 "cells": [
  {
   "cell_type": "code",
   "execution_count": 12,
   "id": "initial_id",
   "metadata": {
    "collapsed": true,
    "ExecuteTime": {
     "end_time": "2024-04-11T21:25:55.180231Z",
     "start_time": "2024-04-11T21:25:55.176785Z"
    }
   },
   "outputs": [],
   "source": [
    "from src.main.models.logistic import Logistic\n",
    "from src.main.utilities.utils import *\n",
    "from src.main.pipeline.pipeline import Pipeline\n",
    "import warnings\n",
    "warnings.filterwarnings(\"ignore\")"
   ]
  },
  {
   "cell_type": "code",
   "outputs": [
    {
     "data": {
      "text/plain": "2      23 Of The Funniest Tweets About Cats And Dogs ...\n17     Maury Wills, Base-Stealing Shortstop For Dodge...\n20     Golden Globes Returning To NBC In January Afte...\n21     Biden Says U.S. Forces Would Defend Taiwan If ...\n24     ‘Beautiful And Sad At The Same Time’: Ukrainia...\n                             ...                        \n203    Deshaun Watson Settles With NFL For 11-Game Su...\n205         Talks On Possible Watson Settlement Progress\n206    CDC Director To Overhaul Agency With COVID Sho...\n208    Planned Parenthood To Spend Record $50 Million...\n211    NBA Won't Host Election Day Games In Effort To...\nName: headline, Length: 100, dtype: object"
     },
     "execution_count": 16,
     "metadata": {},
     "output_type": "execute_result"
    }
   ],
   "source": [
    "dataset = get_dataset()\n",
    "\n",
    "short_description = dataset['short_description'][:100]\n",
    "headline = dataset['headline'][:100]\n",
    "headline\n"
   ],
   "metadata": {
    "collapsed": false,
    "ExecuteTime": {
     "end_time": "2024-04-11T21:26:58.809381Z",
     "start_time": "2024-04-11T21:26:57.888785Z"
    }
   },
   "id": "d0bccfcac599362",
   "execution_count": 16
  },
  {
   "cell_type": "code",
   "outputs": [
    {
     "data": {
      "text/plain": "                                             headline  \\\n0   23 of the funniest tweet about cat and dog thi...   \n1   maury will , base - steal shortstop for dodger...   \n2   golden globe return to nbc in january after ye...   \n3   biden say u.s . force would defend taiwan if c...   \n4   ' beautiful and sad at the same time ' : ukrai...   \n..                                                ...   \n95  deshaun watson settle with nfl for 11 - game s...   \n96        talk on possible watson settlement progress   \n97  cdc director to overhaul agency with covid sho...   \n98  plan parenthood to spend record $ 50 million f...   \n99  nba will not host election day game in effort ...   \n\n                                    short_description  \n0   \" until you have a dog you do not understand w...  \n1   maury will , who help the los angeles dodgers ...  \n2   for the past 18 month , hollywood have effecti...  \n3    president issue vow as tension with china rise .  \n4   an annual celebration take on a different feel...  \n..                                                ...  \n95  the cleveland browns quarterback be accuse of ...  \n96  two people familiar with the negotiation tell ...  \n97  rochelle walensky announce a \" reset \" for the...  \n98  the nation 's lead reproductive health care pr...  \n99  for many americans live in state with strict v...  \n\n[100 rows x 2 columns]",
      "text/html": "<div>\n<style scoped>\n    .dataframe tbody tr th:only-of-type {\n        vertical-align: middle;\n    }\n\n    .dataframe tbody tr th {\n        vertical-align: top;\n    }\n\n    .dataframe thead th {\n        text-align: right;\n    }\n</style>\n<table border=\"1\" class=\"dataframe\">\n  <thead>\n    <tr style=\"text-align: right;\">\n      <th></th>\n      <th>headline</th>\n      <th>short_description</th>\n    </tr>\n  </thead>\n  <tbody>\n    <tr>\n      <th>0</th>\n      <td>23 of the funniest tweet about cat and dog thi...</td>\n      <td>\" until you have a dog you do not understand w...</td>\n    </tr>\n    <tr>\n      <th>1</th>\n      <td>maury will , base - steal shortstop for dodger...</td>\n      <td>maury will , who help the los angeles dodgers ...</td>\n    </tr>\n    <tr>\n      <th>2</th>\n      <td>golden globe return to nbc in january after ye...</td>\n      <td>for the past 18 month , hollywood have effecti...</td>\n    </tr>\n    <tr>\n      <th>3</th>\n      <td>biden say u.s . force would defend taiwan if c...</td>\n      <td>president issue vow as tension with china rise .</td>\n    </tr>\n    <tr>\n      <th>4</th>\n      <td>' beautiful and sad at the same time ' : ukrai...</td>\n      <td>an annual celebration take on a different feel...</td>\n    </tr>\n    <tr>\n      <th>...</th>\n      <td>...</td>\n      <td>...</td>\n    </tr>\n    <tr>\n      <th>95</th>\n      <td>deshaun watson settle with nfl for 11 - game s...</td>\n      <td>the cleveland browns quarterback be accuse of ...</td>\n    </tr>\n    <tr>\n      <th>96</th>\n      <td>talk on possible watson settlement progress</td>\n      <td>two people familiar with the negotiation tell ...</td>\n    </tr>\n    <tr>\n      <th>97</th>\n      <td>cdc director to overhaul agency with covid sho...</td>\n      <td>rochelle walensky announce a \" reset \" for the...</td>\n    </tr>\n    <tr>\n      <th>98</th>\n      <td>plan parenthood to spend record $ 50 million f...</td>\n      <td>the nation 's lead reproductive health care pr...</td>\n    </tr>\n    <tr>\n      <th>99</th>\n      <td>nba will not host election day game in effort ...</td>\n      <td>for many americans live in state with strict v...</td>\n    </tr>\n  </tbody>\n</table>\n<p>100 rows × 2 columns</p>\n</div>"
     },
     "execution_count": 17,
     "metadata": {},
     "output_type": "execute_result"
    }
   ],
   "source": [
    "pipeline = Pipeline([case_folding, lemmatization])\n",
    "headline = pipeline.execute(headline)\n",
    "short_description = pipeline.execute(short_description)\n",
    "x = pd.DataFrame({\"headline\": headline, \"short_description\": short_description})\n",
    "y = dataset['category']\n",
    "x\n"
   ],
   "metadata": {
    "collapsed": false,
    "ExecuteTime": {
     "end_time": "2024-04-11T21:27:46.417175Z",
     "start_time": "2024-04-11T21:26:58.810428Z"
    }
   },
   "id": "d5649305e50130e6",
   "execution_count": 17
  }
 ],
 "metadata": {
  "kernelspec": {
   "display_name": "Python 3",
   "language": "python",
   "name": "python3"
  },
  "language_info": {
   "codemirror_mode": {
    "name": "ipython",
    "version": 2
   },
   "file_extension": ".py",
   "mimetype": "text/x-python",
   "name": "python",
   "nbconvert_exporter": "python",
   "pygments_lexer": "ipython2",
   "version": "2.7.6"
  }
 },
 "nbformat": 4,
 "nbformat_minor": 5
}
