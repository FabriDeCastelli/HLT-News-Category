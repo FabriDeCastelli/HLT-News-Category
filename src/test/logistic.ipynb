{
 "cells": [
  {
   "cell_type": "code",
   "execution_count": 1,
   "id": "initial_id",
   "metadata": {
    "collapsed": true,
    "ExecuteTime": {
     "end_time": "2024-04-15T16:54:00.759168Z",
     "start_time": "2024-04-15T16:53:59.491556Z"
    }
   },
   "outputs": [
    {
     "name": "stderr",
     "output_type": "stream",
     "text": [
      "[nltk_data] Downloading package stopwords to\n",
      "[nltk_data]     /Users/fabriziodecastelli/nltk_data...\n",
      "[nltk_data]   Package stopwords is already up-to-date!\n"
     ]
    }
   ],
   "source": [
    "from src.main.models.logistic import Logistic\n",
    "from src.main.utilities.utils import clean_text, stop_words_removal, stemming, tfidf_vectorizer, get_dataset\n",
    "from src.main.pipeline.pipeline import Pipeline\n",
    "import warnings\n",
    "warnings.filterwarnings(\"ignore\")"
   ]
  },
  {
   "cell_type": "code",
   "outputs": [
    {
     "data": {
      "text/plain": "                                             headline  \\\n2   23 Of The Funniest Tweets About Cats And Dogs ...   \n17  Maury Wills, Base-Stealing Shortstop For Dodge...   \n20  Golden Globes Returning To NBC In January Afte...   \n21  Biden Says U.S. Forces Would Defend Taiwan If ...   \n24  ‘Beautiful And Sad At The Same Time’: Ukrainia...   \n26  Las Vegas Aces Win First WNBA Title, Chelsea G...   \n28  James Cameron Says He 'Clashed' With Studio Be...   \n30  Biden Says Queen's Death Left 'Giant Hole' For...   \n39  Amazon Greenlights 'Blade Runner 2099' Limited...   \n40  Bill To Help Afghans Who Escaped Taliban Faces...   \n\n                                    short_description  \n2   \"Until you have a dog you don't understand wha...  \n17  Maury Wills, who helped the Los Angeles Dodger...  \n20  For the past 18 months, Hollywood has effectiv...  \n21  President issues vow as tensions with China rise.  \n24  An annual celebration took on a different feel...  \n26  Las Vegas never had a professional sports cham...  \n28  The \"Avatar\" director said aspects of his 2009...  \n30  U.S. President Joe Biden, in London for the fu...  \n39  The director of the original 1982 film joins a...  \n40  Republican outrage over the shoddy U.S. withdr...  ",
      "text/html": "<div>\n<style scoped>\n    .dataframe tbody tr th:only-of-type {\n        vertical-align: middle;\n    }\n\n    .dataframe tbody tr th {\n        vertical-align: top;\n    }\n\n    .dataframe thead th {\n        text-align: right;\n    }\n</style>\n<table border=\"1\" class=\"dataframe\">\n  <thead>\n    <tr style=\"text-align: right;\">\n      <th></th>\n      <th>headline</th>\n      <th>short_description</th>\n    </tr>\n  </thead>\n  <tbody>\n    <tr>\n      <th>2</th>\n      <td>23 Of The Funniest Tweets About Cats And Dogs ...</td>\n      <td>\"Until you have a dog you don't understand wha...</td>\n    </tr>\n    <tr>\n      <th>17</th>\n      <td>Maury Wills, Base-Stealing Shortstop For Dodge...</td>\n      <td>Maury Wills, who helped the Los Angeles Dodger...</td>\n    </tr>\n    <tr>\n      <th>20</th>\n      <td>Golden Globes Returning To NBC In January Afte...</td>\n      <td>For the past 18 months, Hollywood has effectiv...</td>\n    </tr>\n    <tr>\n      <th>21</th>\n      <td>Biden Says U.S. Forces Would Defend Taiwan If ...</td>\n      <td>President issues vow as tensions with China rise.</td>\n    </tr>\n    <tr>\n      <th>24</th>\n      <td>‘Beautiful And Sad At The Same Time’: Ukrainia...</td>\n      <td>An annual celebration took on a different feel...</td>\n    </tr>\n    <tr>\n      <th>26</th>\n      <td>Las Vegas Aces Win First WNBA Title, Chelsea G...</td>\n      <td>Las Vegas never had a professional sports cham...</td>\n    </tr>\n    <tr>\n      <th>28</th>\n      <td>James Cameron Says He 'Clashed' With Studio Be...</td>\n      <td>The \"Avatar\" director said aspects of his 2009...</td>\n    </tr>\n    <tr>\n      <th>30</th>\n      <td>Biden Says Queen's Death Left 'Giant Hole' For...</td>\n      <td>U.S. President Joe Biden, in London for the fu...</td>\n    </tr>\n    <tr>\n      <th>39</th>\n      <td>Amazon Greenlights 'Blade Runner 2099' Limited...</td>\n      <td>The director of the original 1982 film joins a...</td>\n    </tr>\n    <tr>\n      <th>40</th>\n      <td>Bill To Help Afghans Who Escaped Taliban Faces...</td>\n      <td>Republican outrage over the shoddy U.S. withdr...</td>\n    </tr>\n  </tbody>\n</table>\n</div>"
     },
     "execution_count": 2,
     "metadata": {},
     "output_type": "execute_result"
    }
   ],
   "source": [
    "dataset = get_dataset(remove_target=True)[:10]\n",
    "dataset"
   ],
   "metadata": {
    "collapsed": false,
    "ExecuteTime": {
     "end_time": "2024-04-15T16:54:01.713326Z",
     "start_time": "2024-04-15T16:54:00.760836Z"
    }
   },
   "id": "d0bccfcac599362",
   "execution_count": 2
  },
  {
   "cell_type": "code",
   "outputs": [
    {
     "name": "stdout",
     "output_type": "stream",
     "text": [
      "[<function tfidf_vectorizer at 0x14b1e6ee0>]\n",
      "[<function tfidf_vectorizer at 0x14b1e6ee0>]\n",
      "Pipeline execution time:  0:00:02.450101\n"
     ]
    },
    {
     "data": {
      "text/plain": "                                            headline  \\\n0    (0, 1)\\t0.31622776601683794\\n  (0, 2)\\t0.316...   \n1    (0, 1)\\t0.30151134457776363\\n  (0, 3)\\t0.301...   \n2    (0, 4)\\t0.3779644730092272\\n  (0, 6)\\t0.3779...   \n3    (0, 4)\\t0.35355339059327373\\n  (0, 1)\\t0.353...   \n4    (0, 10)\\t0.2773500981126146\\n  (0, 5)\\t0.277...   \n5    (0, 5)\\t0.30151134457776363\\n  (0, 6)\\t0.301...   \n6    (0, 5)\\t0.30151134457776363\\n  (0, 1)\\t0.301...   \n7    (0, 5)\\t0.30151134457776363\\n  (0, 9)\\t0.301...   \n8    (0, 9)\\t0.30151134457776363\\n  (0, 7)\\t0.301...   \n9    (0, 6)\\t0.35355339059327373\\n  (0, 5)\\t0.353...   \n\n                                   short_description  \n0    (0, 0)\\t0.3779644730092272\\n  (0, 1)\\t0.3779...  \n1    (0, 1)\\t0.23570226039551587\\n  (0, 4)\\t0.235...  \n2    (0, 1)\\t0.21320071635561041\\n  (0, 4)\\t0.213...  \n3    (0, 0)\\t0.3779644730092272\\n  (0, 4)\\t0.3779...  \n4    (0, 1)\\t0.2886751345948129\\n  (0, 2)\\t0.2886...  \n5    (0, 0)\\t0.35355339059327373\\n  (0, 5)\\t0.353...  \n6    (0, 1)\\t0.22941573387056174\\n  (0, 7)\\t0.229...  \n7    (0, 1)\\t0.16666666666666666\\n  (0, 24)\\t0.16...  \n8    (0, 0)\\t0.2773500981126146\\n  (0, 5)\\t0.2773...  \n9    (0, 0)\\t0.2672612419124244\\n  (0, 4)\\t0.2672...  ",
      "text/html": "<div>\n<style scoped>\n    .dataframe tbody tr th:only-of-type {\n        vertical-align: middle;\n    }\n\n    .dataframe tbody tr th {\n        vertical-align: top;\n    }\n\n    .dataframe thead th {\n        text-align: right;\n    }\n</style>\n<table border=\"1\" class=\"dataframe\">\n  <thead>\n    <tr style=\"text-align: right;\">\n      <th></th>\n      <th>headline</th>\n      <th>short_description</th>\n    </tr>\n  </thead>\n  <tbody>\n    <tr>\n      <th>0</th>\n      <td>(0, 1)\\t0.31622776601683794\\n  (0, 2)\\t0.316...</td>\n      <td>(0, 0)\\t0.3779644730092272\\n  (0, 1)\\t0.3779...</td>\n    </tr>\n    <tr>\n      <th>1</th>\n      <td>(0, 1)\\t0.30151134457776363\\n  (0, 3)\\t0.301...</td>\n      <td>(0, 1)\\t0.23570226039551587\\n  (0, 4)\\t0.235...</td>\n    </tr>\n    <tr>\n      <th>2</th>\n      <td>(0, 4)\\t0.3779644730092272\\n  (0, 6)\\t0.3779...</td>\n      <td>(0, 1)\\t0.21320071635561041\\n  (0, 4)\\t0.213...</td>\n    </tr>\n    <tr>\n      <th>3</th>\n      <td>(0, 4)\\t0.35355339059327373\\n  (0, 1)\\t0.353...</td>\n      <td>(0, 0)\\t0.3779644730092272\\n  (0, 4)\\t0.3779...</td>\n    </tr>\n    <tr>\n      <th>4</th>\n      <td>(0, 10)\\t0.2773500981126146\\n  (0, 5)\\t0.277...</td>\n      <td>(0, 1)\\t0.2886751345948129\\n  (0, 2)\\t0.2886...</td>\n    </tr>\n    <tr>\n      <th>5</th>\n      <td>(0, 5)\\t0.30151134457776363\\n  (0, 6)\\t0.301...</td>\n      <td>(0, 0)\\t0.35355339059327373\\n  (0, 5)\\t0.353...</td>\n    </tr>\n    <tr>\n      <th>6</th>\n      <td>(0, 5)\\t0.30151134457776363\\n  (0, 1)\\t0.301...</td>\n      <td>(0, 1)\\t0.22941573387056174\\n  (0, 7)\\t0.229...</td>\n    </tr>\n    <tr>\n      <th>7</th>\n      <td>(0, 5)\\t0.30151134457776363\\n  (0, 9)\\t0.301...</td>\n      <td>(0, 1)\\t0.16666666666666666\\n  (0, 24)\\t0.16...</td>\n    </tr>\n    <tr>\n      <th>8</th>\n      <td>(0, 9)\\t0.30151134457776363\\n  (0, 7)\\t0.301...</td>\n      <td>(0, 0)\\t0.2773500981126146\\n  (0, 5)\\t0.2773...</td>\n    </tr>\n    <tr>\n      <th>9</th>\n      <td>(0, 6)\\t0.35355339059327373\\n  (0, 5)\\t0.353...</td>\n      <td>(0, 0)\\t0.2672612419124244\\n  (0, 4)\\t0.2672...</td>\n    </tr>\n  </tbody>\n</table>\n</div>"
     },
     "execution_count": 3,
     "metadata": {},
     "output_type": "execute_result"
    }
   ],
   "source": [
    "pipeline = Pipeline([clean_text, stop_words_removal, stemming, tfidf_vectorizer])\n",
    "dataset = pipeline.execute(dataset)\n",
    "dataset\n"
   ],
   "metadata": {
    "collapsed": false,
    "ExecuteTime": {
     "end_time": "2024-04-15T16:54:04.173055Z",
     "start_time": "2024-04-15T16:54:01.716328Z"
    }
   },
   "id": "d5649305e50130e6",
   "execution_count": 3
  },
  {
   "cell_type": "code",
   "outputs": [],
   "source": [],
   "metadata": {
    "collapsed": false,
    "ExecuteTime": {
     "end_time": "2024-04-15T16:54:04.176851Z",
     "start_time": "2024-04-15T16:54:04.175102Z"
    }
   },
   "id": "6a4e430f63dca1b8",
   "execution_count": 3
  }
 ],
 "metadata": {
  "kernelspec": {
   "display_name": "Python 3",
   "language": "python",
   "name": "python3"
  },
  "language_info": {
   "codemirror_mode": {
    "name": "ipython",
    "version": 2
   },
   "file_extension": ".py",
   "mimetype": "text/x-python",
   "name": "python",
   "nbconvert_exporter": "python",
   "pygments_lexer": "ipython2",
   "version": "2.7.6"
  }
 },
 "nbformat": 4,
 "nbformat_minor": 5
}
