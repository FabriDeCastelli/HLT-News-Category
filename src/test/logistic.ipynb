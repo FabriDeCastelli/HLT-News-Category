{
 "cells": [
  {
   "cell_type": "code",
   "execution_count": 1,
   "id": "initial_id",
   "metadata": {
    "collapsed": true,
    "ExecuteTime": {
     "end_time": "2024-04-14T15:06:21.696739Z",
     "start_time": "2024-04-14T15:06:20.476910Z"
    }
   },
   "outputs": [],
   "source": [
    "from src.main.models.logistic import Logistic\n",
    "from src.main.utilities.utils import *\n",
    "from src.main.pipeline.pipeline import Pipeline\n",
    "import warnings\n",
    "warnings.filterwarnings(\"ignore\")"
   ]
  },
  {
   "cell_type": "code",
   "outputs": [
    {
     "data": {
      "text/plain": "                                             headline  \\\n2   23 Of The Funniest Tweets About Cats And Dogs ...   \n17  Maury Wills, Base-Stealing Shortstop For Dodge...   \n20  Golden Globes Returning To NBC In January Afte...   \n21  Biden Says U.S. Forces Would Defend Taiwan If ...   \n24  ‘Beautiful And Sad At The Same Time’: Ukrainia...   \n26  Las Vegas Aces Win First WNBA Title, Chelsea G...   \n28  James Cameron Says He 'Clashed' With Studio Be...   \n30  Biden Says Queen's Death Left 'Giant Hole' For...   \n39  Amazon Greenlights 'Blade Runner 2099' Limited...   \n40  Bill To Help Afghans Who Escaped Taliban Faces...   \n\n                                    short_description  \n2   \"Until you have a dog you don't understand wha...  \n17  Maury Wills, who helped the Los Angeles Dodger...  \n20  For the past 18 months, Hollywood has effectiv...  \n21  President issues vow as tensions with China rise.  \n24  An annual celebration took on a different feel...  \n26  Las Vegas never had a professional sports cham...  \n28  The \"Avatar\" director said aspects of his 2009...  \n30  U.S. President Joe Biden, in London for the fu...  \n39  The director of the original 1982 film joins a...  \n40  Republican outrage over the shoddy U.S. withdr...  ",
      "text/html": "<div>\n<style scoped>\n    .dataframe tbody tr th:only-of-type {\n        vertical-align: middle;\n    }\n\n    .dataframe tbody tr th {\n        vertical-align: top;\n    }\n\n    .dataframe thead th {\n        text-align: right;\n    }\n</style>\n<table border=\"1\" class=\"dataframe\">\n  <thead>\n    <tr style=\"text-align: right;\">\n      <th></th>\n      <th>headline</th>\n      <th>short_description</th>\n    </tr>\n  </thead>\n  <tbody>\n    <tr>\n      <th>2</th>\n      <td>23 Of The Funniest Tweets About Cats And Dogs ...</td>\n      <td>\"Until you have a dog you don't understand wha...</td>\n    </tr>\n    <tr>\n      <th>17</th>\n      <td>Maury Wills, Base-Stealing Shortstop For Dodge...</td>\n      <td>Maury Wills, who helped the Los Angeles Dodger...</td>\n    </tr>\n    <tr>\n      <th>20</th>\n      <td>Golden Globes Returning To NBC In January Afte...</td>\n      <td>For the past 18 months, Hollywood has effectiv...</td>\n    </tr>\n    <tr>\n      <th>21</th>\n      <td>Biden Says U.S. Forces Would Defend Taiwan If ...</td>\n      <td>President issues vow as tensions with China rise.</td>\n    </tr>\n    <tr>\n      <th>24</th>\n      <td>‘Beautiful And Sad At The Same Time’: Ukrainia...</td>\n      <td>An annual celebration took on a different feel...</td>\n    </tr>\n    <tr>\n      <th>26</th>\n      <td>Las Vegas Aces Win First WNBA Title, Chelsea G...</td>\n      <td>Las Vegas never had a professional sports cham...</td>\n    </tr>\n    <tr>\n      <th>28</th>\n      <td>James Cameron Says He 'Clashed' With Studio Be...</td>\n      <td>The \"Avatar\" director said aspects of his 2009...</td>\n    </tr>\n    <tr>\n      <th>30</th>\n      <td>Biden Says Queen's Death Left 'Giant Hole' For...</td>\n      <td>U.S. President Joe Biden, in London for the fu...</td>\n    </tr>\n    <tr>\n      <th>39</th>\n      <td>Amazon Greenlights 'Blade Runner 2099' Limited...</td>\n      <td>The director of the original 1982 film joins a...</td>\n    </tr>\n    <tr>\n      <th>40</th>\n      <td>Bill To Help Afghans Who Escaped Taliban Faces...</td>\n      <td>Republican outrage over the shoddy U.S. withdr...</td>\n    </tr>\n  </tbody>\n</table>\n</div>"
     },
     "execution_count": 2,
     "metadata": {},
     "output_type": "execute_result"
    }
   ],
   "source": [
    "dataset = get_dataset(remove_target=True)[:10]\n",
    "dataset"
   ],
   "metadata": {
    "collapsed": false,
    "ExecuteTime": {
     "end_time": "2024-04-14T15:06:22.703601Z",
     "start_time": "2024-04-14T15:06:21.698033Z"
    }
   },
   "id": "d0bccfcac599362",
   "execution_count": 2
  },
  {
   "cell_type": "code",
   "outputs": [
    {
     "name": "stdout",
     "output_type": "stream",
     "text": [
      "Running pipeline in parallel: number of cpu's:  10\n",
      "Time taken:  0:00:02.571970\n",
      "Time taken:  0:00:00.452350\n",
      "{'headline': ['23 of the funniest tweet about cat and dog this week ( sept . 17 - 23 )', 'maury will , base - steal shortstop for dodger , die at 89', 'golden globe return to nbc in january after year off - air', 'biden say u.s . force would defend taiwan if china invade', \"' beautiful and sad at the same time ' : ukrainian cultural festival take on a deep meaning this year\", 'las vegas ace win first wnba title , chelsea gray name mvp', \"james cameron say he ' clash ' with studio before ' avatar ' release\", \"biden say queen 's death leave ' giant hole ' for royal family\", \"amazon greenlight ' blade runner 2099 ' limited series produce by ridley scott\", 'bill to help afghans who escape taliban face long odd in the senate'], 'short_description': ['\" until you have a dog you do not understand what could be eat . \"', 'maury will , who help the los angeles dodgers win three world series title with his base - steal prowess , have die .', 'for the past 18 month , hollywood have effectively boycott the globe after report that the hfpa ’s 87 member of non - american journalist include no black member .', 'president issue vow as tension with china rise .', \"an annual celebration take on a different feel as russia 's invasion drag into day 206 .\", 'las vegas never have a professional sport champion — until sunday .', 'the \" avatar \" director say aspect of his 2009 movie be \" still competitive with everything that ’ out there these day . \"', 'u.s . president joe biden , in london for the funeral of queen elizabeth ii , say his heart go out to the royal family , add the queen ’s death leave a \" giant hole . \" .', 'the director of the original 1982 film join a writer of the 2017 sequel for the new installment in the sci - fi franchise .', 'republican outrage over the shoddy u.s . withdrawal from afghanistan have not spur support for resettling refugee .']}\n"
     ]
    }
   ],
   "source": [
    "pipeline = Pipeline([case_folding, lemmatization])\n",
    "dataset = pipeline.execute(dataset)\n"
   ],
   "metadata": {
    "collapsed": false,
    "ExecuteTime": {
     "end_time": "2024-04-14T15:06:25.738441Z",
     "start_time": "2024-04-14T15:06:22.704681Z"
    }
   },
   "id": "d5649305e50130e6",
   "execution_count": 3
  },
  {
   "cell_type": "code",
   "outputs": [
    {
     "data": {
      "text/plain": "                                            headline  \\\n0  23 of the funniest tweet about cat and dog thi...   \n1  maury will , base - steal shortstop for dodger...   \n2  golden globe return to nbc in january after ye...   \n3  biden say u.s . force would defend taiwan if c...   \n4  ' beautiful and sad at the same time ' : ukrai...   \n5  las vegas ace win first wnba title , chelsea g...   \n6  james cameron say he ' clash ' with studio bef...   \n7  biden say queen 's death leave ' giant hole ' ...   \n8  amazon greenlight ' blade runner 2099 ' limite...   \n9  bill to help afghans who escape taliban face l...   \n\n                                   short_description  \n0  \" until you have a dog you do not understand w...  \n1  maury will , who help the los angeles dodgers ...  \n2  for the past 18 month , hollywood have effecti...  \n3   president issue vow as tension with china rise .  \n4  an annual celebration take on a different feel...  \n5  las vegas never have a professional sport cham...  \n6  the \" avatar \" director say aspect of his 2009...  \n7  u.s . president joe biden , in london for the ...  \n8  the director of the original 1982 film join a ...  \n9  republican outrage over the shoddy u.s . withd...  ",
      "text/html": "<div>\n<style scoped>\n    .dataframe tbody tr th:only-of-type {\n        vertical-align: middle;\n    }\n\n    .dataframe tbody tr th {\n        vertical-align: top;\n    }\n\n    .dataframe thead th {\n        text-align: right;\n    }\n</style>\n<table border=\"1\" class=\"dataframe\">\n  <thead>\n    <tr style=\"text-align: right;\">\n      <th></th>\n      <th>headline</th>\n      <th>short_description</th>\n    </tr>\n  </thead>\n  <tbody>\n    <tr>\n      <th>0</th>\n      <td>23 of the funniest tweet about cat and dog thi...</td>\n      <td>\" until you have a dog you do not understand w...</td>\n    </tr>\n    <tr>\n      <th>1</th>\n      <td>maury will , base - steal shortstop for dodger...</td>\n      <td>maury will , who help the los angeles dodgers ...</td>\n    </tr>\n    <tr>\n      <th>2</th>\n      <td>golden globe return to nbc in january after ye...</td>\n      <td>for the past 18 month , hollywood have effecti...</td>\n    </tr>\n    <tr>\n      <th>3</th>\n      <td>biden say u.s . force would defend taiwan if c...</td>\n      <td>president issue vow as tension with china rise .</td>\n    </tr>\n    <tr>\n      <th>4</th>\n      <td>' beautiful and sad at the same time ' : ukrai...</td>\n      <td>an annual celebration take on a different feel...</td>\n    </tr>\n    <tr>\n      <th>5</th>\n      <td>las vegas ace win first wnba title , chelsea g...</td>\n      <td>las vegas never have a professional sport cham...</td>\n    </tr>\n    <tr>\n      <th>6</th>\n      <td>james cameron say he ' clash ' with studio bef...</td>\n      <td>the \" avatar \" director say aspect of his 2009...</td>\n    </tr>\n    <tr>\n      <th>7</th>\n      <td>biden say queen 's death leave ' giant hole ' ...</td>\n      <td>u.s . president joe biden , in london for the ...</td>\n    </tr>\n    <tr>\n      <th>8</th>\n      <td>amazon greenlight ' blade runner 2099 ' limite...</td>\n      <td>the director of the original 1982 film join a ...</td>\n    </tr>\n    <tr>\n      <th>9</th>\n      <td>bill to help afghans who escape taliban face l...</td>\n      <td>republican outrage over the shoddy u.s . withd...</td>\n    </tr>\n  </tbody>\n</table>\n</div>"
     },
     "execution_count": 4,
     "metadata": {},
     "output_type": "execute_result"
    }
   ],
   "source": [
    "dataset"
   ],
   "metadata": {
    "collapsed": false,
    "ExecuteTime": {
     "end_time": "2024-04-14T15:06:34.348976Z",
     "start_time": "2024-04-14T15:06:34.343523Z"
    }
   },
   "id": "59fdb85a9fec499d",
   "execution_count": 4
  },
  {
   "cell_type": "code",
   "outputs": [],
   "source": [],
   "metadata": {
    "collapsed": false
   },
   "id": "8a6025bb042b0712"
  }
 ],
 "metadata": {
  "kernelspec": {
   "display_name": "Python 3",
   "language": "python",
   "name": "python3"
  },
  "language_info": {
   "codemirror_mode": {
    "name": "ipython",
    "version": 2
   },
   "file_extension": ".py",
   "mimetype": "text/x-python",
   "name": "python",
   "nbconvert_exporter": "python",
   "pygments_lexer": "ipython2",
   "version": "2.7.6"
  }
 },
 "nbformat": 4,
 "nbformat_minor": 5
}
