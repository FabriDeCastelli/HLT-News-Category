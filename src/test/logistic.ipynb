{
 "cells": [
  {
   "cell_type": "code",
   "execution_count": 1,
   "id": "initial_id",
   "metadata": {
    "collapsed": true,
    "ExecuteTime": {
     "end_time": "2024-04-16T17:45:55.506831Z",
     "start_time": "2024-04-16T17:45:53.978728Z"
    }
   },
   "outputs": [
    {
     "name": "stderr",
     "output_type": "stream",
     "text": [
      "[nltk_data] Downloading package stopwords to\n",
      "[nltk_data]     /Users/fabriziodecastelli/nltk_data...\n",
      "[nltk_data]   Package stopwords is already up-to-date!\n"
     ]
    }
   ],
   "source": [
    "from src.main.models.logistic import Logistic\n",
    "from src.main.utilities.utils import clean_text, stop_words_removal, stemming, tfidf_vectorizer, get_dataset\n",
    "from sklearn.model_selection import train_test_split\n",
    "import warnings\n",
    "warnings.filterwarnings(\"ignore\")"
   ]
  },
  {
   "cell_type": "code",
   "outputs": [],
   "source": [
    "inputs, targets = get_dataset()"
   ],
   "metadata": {
    "collapsed": false,
    "ExecuteTime": {
     "end_time": "2024-04-16T17:46:05.154321Z",
     "start_time": "2024-04-16T17:46:04.193392Z"
    }
   },
   "id": "d0bccfcac599362",
   "execution_count": 6
  },
  {
   "cell_type": "code",
   "outputs": [],
   "source": [
    "logistic = Logistic(verbose=False, multi_class=\"multinomial\")"
   ],
   "metadata": {
    "collapsed": false,
    "ExecuteTime": {
     "end_time": "2024-04-16T17:46:20.079090Z",
     "start_time": "2024-04-16T17:46:20.076874Z"
    }
   },
   "id": "d94500ad1c569a55",
   "execution_count": 10
  },
  {
   "cell_type": "code",
   "outputs": [],
   "source": [
    "logistic.set_pipeline([clean_text, stop_words_removal, stemming, tfidf_vectorizer])\n",
    "inputs = logistic.run_pipeline(inputs)"
   ],
   "metadata": {
    "collapsed": false,
    "ExecuteTime": {
     "end_time": "2024-04-16T17:46:20.619810Z",
     "start_time": "2024-04-16T17:46:20.491515Z"
    }
   },
   "id": "986f53bff213b918",
   "execution_count": 11
  },
  {
   "cell_type": "code",
   "outputs": [
    {
     "data": {
      "text/plain": "2         Entertainment\n17               Sports\n20        Entertainment\n21             Politics\n24             Politics\n              ...      \n209513    Entertainment\n209523           Sports\n209524           Sports\n209525           Sports\n209526           Sports\nName: category, Length: 108238, dtype: object"
     },
     "execution_count": 12,
     "metadata": {},
     "output_type": "execute_result"
    }
   ],
   "source": [
    "targets"
   ],
   "metadata": {
    "collapsed": false,
    "ExecuteTime": {
     "end_time": "2024-04-16T17:46:21.218112Z",
     "start_time": "2024-04-16T17:46:21.214916Z"
    }
   },
   "id": "e712b88374260ca5",
   "execution_count": 12
  },
  {
   "cell_type": "code",
   "outputs": [
    {
     "data": {
      "text/plain": "80821       Voices\n137902        Life\n51951     Politics\n35881     Politics\n59269       Voices\n            ...   \n92432       Sports\n156292        Life\n201927        Life\n1509      Politics\n23927     Politics\nName: category, Length: 86590, dtype: object"
     },
     "execution_count": 13,
     "metadata": {},
     "output_type": "execute_result"
    }
   ],
   "source": [
    "x_train, x_test, y_train, y_test = train_test_split(inputs, targets, test_size=0.2, random_state=42)\n",
    "y_train"
   ],
   "metadata": {
    "collapsed": false,
    "ExecuteTime": {
     "end_time": "2024-04-16T17:46:21.684726Z",
     "start_time": "2024-04-16T17:46:21.664671Z"
    }
   },
   "id": "ed65582575068f1a",
   "execution_count": 13
  },
  {
   "cell_type": "code",
   "outputs": [],
   "source": [
    "logistic.fit(x_train, y_train)"
   ],
   "metadata": {
    "collapsed": false,
    "ExecuteTime": {
     "end_time": "2024-04-16T17:46:26.874977Z",
     "start_time": "2024-04-16T17:46:22.463333Z"
    }
   },
   "id": "3e54d806fe96611f",
   "execution_count": 14
  },
  {
   "cell_type": "code",
   "outputs": [
    {
     "data": {
      "text/plain": "0.8627124907612712"
     },
     "execution_count": 15,
     "metadata": {},
     "output_type": "execute_result"
    }
   ],
   "source": [
    "logistic.evaluate(x_test, y_test)"
   ],
   "metadata": {
    "collapsed": false,
    "ExecuteTime": {
     "end_time": "2024-04-16T17:46:28.346070Z",
     "start_time": "2024-04-16T17:46:28.328312Z"
    }
   },
   "id": "873bf2e55cb05285",
   "execution_count": 15
  },
  {
   "cell_type": "code",
   "outputs": [],
   "source": [],
   "metadata": {
    "collapsed": false
   },
   "id": "4e635d4ab39a1ec5"
  }
 ],
 "metadata": {
  "kernelspec": {
   "display_name": "Python 3",
   "language": "python",
   "name": "python3"
  },
  "language_info": {
   "codemirror_mode": {
    "name": "ipython",
    "version": 2
   },
   "file_extension": ".py",
   "mimetype": "text/x-python",
   "name": "python",
   "nbconvert_exporter": "python",
   "pygments_lexer": "ipython2",
   "version": "2.7.6"
  }
 },
 "nbformat": 4,
 "nbformat_minor": 5
}
