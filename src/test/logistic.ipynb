{
 "cells": [
  {
   "cell_type": "code",
   "id": "0c489f79",
   "metadata": {},
   "source": [
    "import warnings\n",
    "import os\n",
    "import sys\n",
    "\n",
    "warnings.filterwarnings('ignore')\n",
    "current_dir = %pwd\n",
    "\n",
    "parent_dir = os.path.abspath(os.path.join(current_dir, '../..'))\n",
    "\n",
    "sys.path.append(parent_dir)"
   ],
   "outputs": [],
   "execution_count": null
  },
  {
   "cell_type": "code",
   "id": "initial_id",
   "metadata": {},
   "source": [
    "from src.main.models.logistic import Logistic\n",
    "from src.main.utilities.utils import clean_text, stop_words_removal, stemming, tfidf_vectorizer, get_dataset\n",
    "from sklearn.model_selection import train_test_split\n",
    "\n",
    "import warnings\n",
    "warnings.filterwarnings(\"ignore\")"
   ],
   "outputs": [],
   "execution_count": null
  },
  {
   "cell_type": "code",
   "id": "c953de5c58595d01",
   "metadata": {
    "collapsed": false
   },
   "source": [
    "# define model and pipeline\n",
    "logistic = Logistic(verbose=False, multi_class=\"multinomial\", n_jobs=-1, max_iter=1000)\n",
    "logistic.pipeline = [stop_words_removal, stemming, tfidf_vectorizer]\n",
    "\n",
    "# import dataset and apply pipeline\n",
    "inputs, targets = get_dataset()\n",
    "inputs = logistic.run_pipeline(inputs, save=True)"
   ],
   "outputs": [],
   "execution_count": null
  },
  {
   "cell_type": "code",
   "source": [
    "# stratified train test split\n",
    "x_train, x_test, y_train, y_test = train_test_split(inputs, targets, test_size=0.2, random_state=42, stratify=targets)\n"
   ],
   "metadata": {
    "collapsed": false
   },
   "id": "d0bccfcac599362",
   "outputs": [],
   "execution_count": null
  },
  {
   "cell_type": "code",
   "id": "3e54d806fe96611f",
   "metadata": {
    "collapsed": false
   },
   "source": [
    "# model training \n",
    "# search = logistic.grid_search(x_train, y_train, n_iter=5)\n",
    "# search.best_estimator_\n",
    "logistic.fit(x_train, y_train)"
   ],
   "outputs": [],
   "execution_count": null
  },
  {
   "cell_type": "code",
   "id": "620e0a1c9db32849",
   "metadata": {},
   "source": [
    "# search.cv_results_\n",
    "# search.best_score_"
   ],
   "outputs": [],
   "execution_count": null
  },
  {
   "cell_type": "code",
   "id": "873bf2e55cb05285",
   "metadata": {
    "collapsed": false
   },
   "source": [
    "from sklearn.metrics import classification_report\n",
    "from src.main.utilities import plotting\n",
    "\n",
    "y_pred = logistic.predict(x_test)\n",
    "print(classification_report(y_test, y_pred))\n",
    "#results = plotting.compute_performance(y_test, y_pred)\n",
    "#plotting.print_performance(results)\n"
   ],
   "outputs": [],
   "execution_count": null
  },
  {
   "cell_type": "code",
   "id": "4e635d4ab39a1ec5",
   "metadata": {
    "collapsed": false
   },
   "source": [
    "plotting.plot_confusion_matrix(y_test, y_pred)"
   ],
   "outputs": [],
   "execution_count": null
  },
  {
   "cell_type": "code",
   "id": "54ba26ba0f1f6f63",
   "metadata": {},
   "source": "#plotting.plot_performance(results)",
   "outputs": [],
   "execution_count": null
  },
  {
   "cell_type": "code",
   "id": "734a92be-3d70-4b1a-a391-f8e40bf2ff24",
   "metadata": {},
   "source": [],
   "outputs": [],
   "execution_count": null
  }
 ],
 "metadata": {
  "kernelspec": {
   "display_name": "Python 3 (ipykernel)",
   "language": "python",
   "name": "python3"
  },
  "language_info": {
   "codemirror_mode": {
    "name": "ipython",
    "version": 3
   },
   "file_extension": ".py",
   "mimetype": "text/x-python",
   "name": "python",
   "nbconvert_exporter": "python",
   "pygments_lexer": "ipython3",
   "version": "3.12.3"
  }
 },
 "nbformat": 4,
 "nbformat_minor": 5
}
