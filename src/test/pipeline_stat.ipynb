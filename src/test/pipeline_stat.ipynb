{
 "cells": [
  {
   "cell_type": "markdown",
   "metadata": {},
   "source": [
    "## Pipeline Preprocessing\n",
    "\n",
    "This notebook intended to show the effects of the preprocessing pipeline. \n",
    "Each example will show the result of applying different preprocessing functions, such as tokenization, stopword removal, etc."
   ]
  },
  {
   "metadata": {
    "ExecuteTime": {
     "end_time": "2024-05-27T16:09:19.208601Z",
     "start_time": "2024-05-27T16:09:19.188824Z"
    }
   },
   "cell_type": "code",
   "source": [
    "import warnings\n",
    "import sys\n",
    "import os\n",
    "\n",
    "\n",
    "warnings.filterwarnings('ignore')\n",
    "current_dir = %pwd\n",
    "\n",
    "parent_dir = os.path.abspath(os.path.join(current_dir, '../..'))\n",
    "sys.path.append(parent_dir)\n",
    "\n",
    "os.environ[\"CUDA_VISIBLE_DEVICES\"] = \"1\"\n",
    "os.environ['TF_CPP_MIN_LOG_LEVEL'] = '3'"
   ],
   "outputs": [],
   "execution_count": 9
  },
  {
   "cell_type": "code",
   "metadata": {
    "ExecuteTime": {
     "end_time": "2024-05-27T16:09:19.213401Z",
     "start_time": "2024-05-27T16:09:19.210157Z"
    }
   },
   "source": [
    "from src.main.pipeline.pipeline import Pipeline\n",
    "from src.main.pipeline.functions import stop_words_removal, clean_text, remove_contractions, unify_numbers, tfidf_vectorizer\n",
    "from src.main.utilities.utils import get_dataset\n",
    "import numpy as np"
   ],
   "outputs": [],
   "execution_count": 10
  },
  {
   "cell_type": "markdown",
   "metadata": {},
   "source": [
    "<h4><b>Sample text</b></h4>\n",
    "\n",
    "Let's extract from the datset one sentence for each existing label. They will be taken as a reference example for each pipeline function applied."
   ]
  },
  {
   "cell_type": "code",
   "metadata": {
    "ExecuteTime": {
     "end_time": "2024-05-27T16:09:21.176287Z",
     "start_time": "2024-05-27T16:09:19.214753Z"
    }
   },
   "source": [
    "inputs, targets = get_dataset()\n",
    "inputs = inputs[:200].reshape(-1, 1)\n",
    "targets = targets[:200]\n",
    "\n",
    "def print_results(inputs, targets):\n",
    "    unique_classes = np.unique(targets)\n",
    "    for class_name in unique_classes:\n",
    "        class_index = np.where(targets == class_name)[0][0]\n",
    "        print(f\"Class: {class_name}\")\n",
    "        print(inputs[class_index][0])\n",
    "        print()\n",
    "\n",
    "print_results(inputs, targets)"
   ],
   "outputs": [
    {
     "name": "stdout",
     "output_type": "stream",
     "text": [
      "Class: Entertainment\n",
      "23 Of The Funniest Tweets About Cats And Dogs This Week (Sept. 17-23) \"Until you have a dog you don't understand what could be eaten.\"\n",
      "\n",
      "Class: Life\n",
      "6 Signs You’re Grinding Your Teeth At Night (And What To Do About It) Beyond toothaches, there are other common red flags that you're dealing with nighttime teeth grinding.\n",
      "\n",
      "Class: Politics\n",
      "Biden Says U.S. Forces Would Defend Taiwan If China Invaded President issues vow as tensions with China rise.\n",
      "\n",
      "Class: Sports\n",
      "Maury Wills, Base-Stealing Shortstop For Dodgers, Dies At 89 Maury Wills, who helped the Los Angeles Dodgers win three World Series titles with his base-stealing prowess, has died.\n",
      "\n",
      "Class: Voices\n",
      "Spirituality Has A New Face — And It’s Queer As Hell Meet three spiritual leaders working hard for queer people to have a safe space in the religious community.\n",
      "\n"
     ]
    }
   ],
   "execution_count": 11
  },
  {
   "cell_type": "markdown",
   "metadata": {},
   "source": [
    "<h4><b>Removing Contractions</b></h4>\n",
    "\n",
    "As a first step, we remove the contractions, expanding shortened words back into their full forms.\n",
    "\n",
    "For example, \"don't\" becomes \"do not,\" \"haven't\" becomes \"have not,\" and so on.\n",
    "\n",
    "This type of preprocessing creates a more uniform data set for the model to process and also increases efficiency because the model has to learn and handle fewer unique words."
   ]
  },
  {
   "cell_type": "code",
   "metadata": {
    "ExecuteTime": {
     "end_time": "2024-05-27T16:09:21.253182Z",
     "start_time": "2024-05-27T16:09:21.177513Z"
    }
   },
   "source": [
    "pipeline = Pipeline([remove_contractions])\n",
    "results = pipeline.execute(inputs)\n",
    "print_results(results.reshape(-1, 1), targets)"
   ],
   "outputs": [
    {
     "name": "stdout",
     "output_type": "stream",
     "text": [
      "Pipeline started\n",
      "Pipeline execution time: 0:00:00.072688\n",
      "Class: Entertainment\n",
      "23 Of The Funniest Tweets About Cats And Dogs This Week (Sept. 17-23) \"Until you have a dog you do not understand what could be eaten.\"\n",
      "\n",
      "Class: Life\n",
      "6 Signs You are Grinding Your Teeth At Night (And What To Do About It) Beyond toothaches, there are other common red flags that you are dealing with nighttime teeth grinding.\n",
      "\n",
      "Class: Politics\n",
      "Biden Says YOU.S. Forces Would Defend Taiwan If China Invaded President issues vow as tensions with China rise.\n",
      "\n",
      "Class: Sports\n",
      "Maury Wills, Base-Stealing Shortstop For Dodgers, Dies At 89 Maury Wills, who helped the Los Angeles Dodgers win three World Series titles with his base-stealing prowess, has died.\n",
      "\n",
      "Class: Voices\n",
      "Spirituality Has A New Face — And It is Queer As Hell Meet three spiritual leaders working hard for queer people to have a safe space in the religious community.\n",
      "\n"
     ]
    }
   ],
   "execution_count": 12
  },
  {
   "cell_type": "markdown",
   "metadata": {},
   "source": [
    "<h4><b>Text Cleaning</b></h4>\n",
    "\n",
    "The text cleaning operation consists of applying a series of regular expression necessary to remove noise, standardize the text, and extract meaningful features.\n",
    "\n",
    "This step of the pipeline enhances the accuracy and effectiveness of the model."
   ]
  },
  {
   "cell_type": "code",
   "metadata": {
    "ExecuteTime": {
     "end_time": "2024-05-27T16:09:21.285546Z",
     "start_time": "2024-05-27T16:09:21.253939Z"
    }
   },
   "source": [
    "# Cleaning the text\n",
    "pipeline = Pipeline([remove_contractions, clean_text])\n",
    "results = pipeline.execute(inputs)\n",
    "print_results(results.reshape(-1, 1), targets)"
   ],
   "outputs": [
    {
     "name": "stdout",
     "output_type": "stream",
     "text": [
      "Pipeline started\n",
      "Pipeline execution time: 0:00:00.024352\n",
      "Class: Entertainment\n",
      "23 of the funniest tweets about cats and dogs this week (sept  17 23)  until you have a dog you do not understand what could be eaten  \n",
      "\n",
      "Class: Life\n",
      "6 signs you are grinding your teeth at night (and what to do about it) beyond toothaches  there are other common red flags that you are dealing with nighttime teeth grinding \n",
      "\n",
      "Class: Politics\n",
      "biden says you s  forces would defend taiwan if china invaded president issues vow as tensions with china rise \n",
      "\n",
      "Class: Sports\n",
      "maury wills  base stealing shortstop for dodgers  dies at 89 maury wills  who helped the los angeles dodgers win three world series titles with his base stealing prowess  has died \n",
      "\n",
      "Class: Voices\n",
      "spirituality has a new face  and it is queer as hell meet three spiritual leaders working hard for queer people to have a safe space in the religious community \n",
      "\n"
     ]
    }
   ],
   "execution_count": 13
  },
  {
   "cell_type": "markdown",
   "metadata": {},
   "source": [
    "<h4><b>Removing stop-words</b></h4>\n",
    "\n",
    "Remove the stop words from the text using the english stop words list from nltk. This is a common and effective text cleaning technique that helps to focus on the core meaning of the text and improves efficiency."
   ]
  },
  {
   "cell_type": "code",
   "metadata": {
    "ExecuteTime": {
     "end_time": "2024-05-27T16:09:21.335254Z",
     "start_time": "2024-05-27T16:09:21.286547Z"
    }
   },
   "source": [
    "pipeline = Pipeline([remove_contractions, clean_text, stop_words_removal])\n",
    "results = pipeline.execute(inputs)\n",
    "print_results(results.reshape(-1, 1), targets)"
   ],
   "outputs": [
    {
     "name": "stdout",
     "output_type": "stream",
     "text": [
      "Pipeline started\n",
      "Pipeline execution time: 0:00:00.046176\n",
      "Class: Entertainment\n",
      "23 funniest tweets cats dogs week (sept  17 23)  dog understand could eaten  \n",
      "\n",
      "Class: Life\n",
      "6 signs grinding teeth night (and it) beyond toothaches  common red flags dealing nighttime teeth grinding \n",
      "\n",
      "Class: Politics\n",
      "biden says  forces would defend taiwan china invaded president issues vow tensions china rise \n",
      "\n",
      "Class: Sports\n",
      "maury wills  base stealing shortstop dodgers  dies 89 maury wills  helped los angeles dodgers win three world series titles base stealing prowess  died \n",
      "\n",
      "Class: Voices\n",
      "spirituality new face  queer hell meet three spiritual leaders working hard queer people safe space religious community \n",
      "\n"
     ]
    }
   ],
   "execution_count": 14
  },
  {
   "cell_type": "markdown",
   "metadata": {},
   "source": [
    "<h4><b>TF-IDF Vectorization</b></h4>\n",
    "\n",
    "Convert text data into a suitable numerical representations, considering the frequency of a word within a document and its importance across the entire document collection.\n",
    "\n",
    "It helps identify key words, compare documents, and perform various NLP tasks effectively."
   ]
  },
  {
   "cell_type": "code",
   "metadata": {
    "ExecuteTime": {
     "end_time": "2024-05-27T16:09:21.366132Z",
     "start_time": "2024-05-27T16:09:21.336048Z"
    }
   },
   "source": [
    "pipeline = Pipeline([remove_contractions, clean_text, stop_words_removal, tfidf_vectorizer])\n",
    "results = pipeline.execute(inputs)\n",
    "print(results)\n"
   ],
   "outputs": [
    {
     "name": "stdout",
     "output_type": "stream",
     "text": [
      "Pipeline started\n",
      "Pipeline execution time: 0:00:00.027754\n",
      "  (0, 681)\t0.281651915451354\n",
      "  (0, 494)\t0.2008518216117173\n",
      "  (0, 2229)\t0.281651915451354\n",
      "  (0, 642)\t0.26129597718823094\n",
      "  (0, 8)\t0.281651915451354\n",
      "  (0, 1890)\t0.26129597718823094\n",
      "  (0, 2316)\t0.26129597718823094\n",
      "  (0, 643)\t0.26129597718823094\n",
      "  (0, 363)\t0.26129597718823094\n",
      "  (0, 2215)\t0.26129597718823094\n",
      "  (0, 847)\t0.26129597718823094\n",
      "  (0, 33)\t0.49370641828898415\n",
      "  (1, 610)\t0.1576247334306647\n",
      "  (1, 1646)\t0.17984497040615585\n",
      "  (1, 2162)\t0.17984497040615585\n",
      "  (1, 1892)\t0.13162872265506462\n",
      "  (1, 2365)\t0.1446267280428647\n",
      "  (1, 2142)\t0.15047141487319912\n",
      "  (1, 2335)\t0.15047141487319912\n",
      "  (1, 141)\t0.17984497040615585\n",
      "  (1, 1234)\t0.17984497040615585\n",
      "  (1, 972)\t0.17984497040615585\n",
      "  (1, 55)\t0.17984497040615585\n",
      "  (1, 611)\t0.1354044964551735\n",
      "  (1, 641)\t0.3596899408123117\n",
      "  :\t:\n",
      "  (198, 577)\t0.17094297234955833\n",
      "  (198, 1089)\t0.40836585883621657\n",
      "  (198, 2088)\t0.15695041981492436\n",
      "  (198, 2312)\t0.17094297234955833\n",
      "  (198, 894)\t0.15321134949148016\n",
      "  (198, 1408)\t0.1260188076461957\n",
      "  (198, 1884)\t0.15321134949148016\n",
      "  (199, 451)\t0.2056105052399196\n",
      "  (199, 1671)\t0.2056105052399196\n",
      "  (199, 1919)\t0.2056105052399196\n",
      "  (199, 1201)\t0.2056105052399196\n",
      "  (199, 1573)\t0.2056105052399196\n",
      "  (199, 771)\t0.2056105052399196\n",
      "  (199, 942)\t0.4112210104798392\n",
      "  (199, 2129)\t0.2056105052399196\n",
      "  (199, 492)\t0.2056105052399196\n",
      "  (199, 1441)\t0.2056105052399196\n",
      "  (199, 113)\t0.2056105052399196\n",
      "  (199, 909)\t0.38150067469439897\n",
      "  (199, 1272)\t0.19075033734719948\n",
      "  (199, 1902)\t0.1720287398995565\n",
      "  (199, 329)\t0.1720287398995565\n",
      "  (199, 2100)\t0.1802068804359362\n",
      "  (199, 1738)\t0.344057479799113\n",
      "  (199, 1848)\t0.12717775762455538\n"
     ]
    }
   ],
   "execution_count": 15
  }
 ],
 "metadata": {
  "kernelspec": {
   "display_name": "HLT",
   "language": "python",
   "name": "python3"
  },
  "language_info": {
   "codemirror_mode": {
    "name": "ipython",
    "version": 3
   },
   "file_extension": ".py",
   "mimetype": "text/x-python",
   "name": "python",
   "nbconvert_exporter": "python",
   "pygments_lexer": "ipython3",
   "version": "3.10.14"
  }
 },
 "nbformat": 4,
 "nbformat_minor": 2
}
