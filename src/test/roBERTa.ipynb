{
 "cells": [
  {
   "cell_type": "code",
   "execution_count": 1,
   "metadata": {},
   "outputs": [],
   "source": [
    "import warnings\n",
    "import os\n",
    "import sys\n",
    "\n",
    "os.environ[\"CUDA_VISIBLE_DEVICES\"] = \"1\"\n",
    "\n",
    "warnings.filterwarnings('ignore')\n",
    "current_dir = %pwd\n",
    "\n",
    "parent_dir = os.path.abspath(os.path.join(current_dir, '../..'))\n",
    "sys.path.append(parent_dir)"
   ]
  },
  {
   "cell_type": "code",
   "execution_count": 2,
   "metadata": {},
   "outputs": [
    {
     "name": "stderr",
     "output_type": "stream",
     "text": [
      "2024-05-20 19:58:39.394437: I tensorflow/core/util/port.cc:113] oneDNN custom operations are on. You may see slightly different numerical results due to floating-point round-off errors from different computation orders. To turn them off, set the environment variable `TF_ENABLE_ONEDNN_OPTS=0`.\n",
      "2024-05-20 19:58:39.439954: I tensorflow/core/platform/cpu_feature_guard.cc:210] This TensorFlow binary is optimized to use available CPU instructions in performance-critical operations.\n",
      "To enable the following instructions: AVX2 AVX512F AVX512_VNNI FMA, in other operations, rebuild TensorFlow with the appropriate compiler flags.\n",
      "2024-05-20 19:58:40.159420: W tensorflow/compiler/tf2tensorrt/utils/py_utils.cc:38] TF-TRT Warning: Could not find TensorRT\n",
      "Some weights of RobertaForSequenceClassification were not initialized from the model checkpoint at roberta-base and are newly initialized: ['classifier.dense.bias', 'classifier.dense.weight', 'classifier.out_proj.bias', 'classifier.out_proj.weight']\n",
      "You should probably TRAIN this model on a down-stream task to be able to use it for predictions and inference.\n"
     ]
    }
   ],
   "source": [
    "from transformers import AutoTokenizer, AutoModelForSequenceClassification, DataCollatorWithPadding\n",
    "from datasets import Dataset\n",
    "\n",
    "label2id = {\n",
    "    \"Entertainment\": 0,\n",
    "    \"Life\": 1,\n",
    "    \"Politics\": 2,\n",
    "    \"Sports\": 3,\n",
    "    \"Voices\": 4\n",
    "}\n",
    "         \n",
    "id2label = {int(v):str(k) for k, v in label2id.items()}\n",
    "\n",
    "checkpoint = \"roberta-base\"\n",
    "tokenizer = AutoTokenizer.from_pretrained(checkpoint)\n",
    "model = AutoModelForSequenceClassification.from_pretrained(checkpoint, num_labels=5, label2id=label2id, id2label=id2label)"
   ]
  },
  {
   "cell_type": "code",
   "execution_count": 3,
   "metadata": {},
   "outputs": [],
   "source": [
    "from src.main.models.transformers import Transformer\n",
    "from src.main.pipeline.functions import clean_text, stop_words_removal\n",
    "from src.main.utilities.utils import get_dataset, split_train_val_test\n",
    "\n",
    "roberta = Transformer()\n",
    "\n",
    "roberta.pipeline = [clean_text, stop_words_removal]\n",
    "\n",
    "inputs, targets = get_dataset(one_hot=True)\n",
    "inputs = roberta.run_pipeline(inputs, save=True)\n",
    "\n",
    "x_train, x_val, x_test, y_train, y_val, y_test = split_train_val_test(inputs, targets, validation_size=0.2, test_size=0.1)\n",
    "\n",
    "train_data = {'text': x_train, 'label': y_train.values.astype(float)}\n",
    "val_data = {'text': x_val, 'label': y_val.values.astype(float)}\n",
    "test_data = {'text': x_test, 'label': y_test.values.astype(float)}"
   ]
  },
  {
   "cell_type": "code",
   "execution_count": 4,
   "metadata": {},
   "outputs": [
    {
     "data": {
      "application/vnd.jupyter.widget-view+json": {
       "model_id": "9d10ec9d0bfa4b00a097ad48e72e627e",
       "version_major": 2,
       "version_minor": 0
      },
      "text/plain": [
       "Map:   0%|          | 0/75766 [00:00<?, ? examples/s]"
      ]
     },
     "metadata": {},
     "output_type": "display_data"
    },
    {
     "data": {
      "application/vnd.jupyter.widget-view+json": {
       "model_id": "a9c2faa7491b4f88848825f327cfd9e2",
       "version_major": 2,
       "version_minor": 0
      },
      "text/plain": [
       "Map:   0%|          | 0/21648 [00:00<?, ? examples/s]"
      ]
     },
     "metadata": {},
     "output_type": "display_data"
    },
    {
     "data": {
      "application/vnd.jupyter.widget-view+json": {
       "model_id": "44f857382c1845db867497cd952b015f",
       "version_major": 2,
       "version_minor": 0
      },
      "text/plain": [
       "Map:   0%|          | 0/10824 [00:00<?, ? examples/s]"
      ]
     },
     "metadata": {},
     "output_type": "display_data"
    }
   ],
   "source": [
    "train_dataset = Dataset.from_dict(train_data)\n",
    "val_dataset = Dataset.from_dict(val_data)\n",
    "test_dataset = Dataset.from_dict(test_data)\n",
    "\n",
    "def tokenize_function(batch):\n",
    "    return tokenizer(batch['text'], truncation=True, max_length=512)\n",
    "\n",
    "train_dataset = train_dataset.map(tokenize_function, batched=True)\n",
    "val_dataset = val_dataset.map(tokenize_function, batched=True)\n",
    "test_dataset = test_dataset.map(tokenize_function, batched=True)\n",
    "\n",
    "train_dataset.set_format(type='torch', columns=['input_ids', 'attention_mask', 'label'])\n",
    "val_dataset.set_format(type='torch', columns=['input_ids', 'attention_mask', 'label'])\n",
    "test_dataset.set_format(type='torch', columns=['input_ids', 'attention_mask', 'label'])\n",
    "\n",
    "data_collator = DataCollatorWithPadding(tokenizer=tokenizer)"
   ]
  },
  {
   "cell_type": "code",
   "execution_count": 5,
   "metadata": {},
   "outputs": [
    {
     "data": {
      "text/html": [
       "\n",
       "    <div>\n",
       "      \n",
       "      <progress value='37888' max='37888' style='width:300px; height:20px; vertical-align: middle;'></progress>\n",
       "      [37888/37888 40:47, Epoch 8/8]\n",
       "    </div>\n",
       "    <table border=\"1\" class=\"dataframe\">\n",
       "  <thead>\n",
       " <tr style=\"text-align: left;\">\n",
       "      <th>Epoch</th>\n",
       "      <th>Training Loss</th>\n",
       "      <th>Validation Loss</th>\n",
       "      <th>Accuracy</th>\n",
       "      <th>Precision</th>\n",
       "      <th>Recall</th>\n",
       "      <th>F1</th>\n",
       "    </tr>\n",
       "  </thead>\n",
       "  <tbody>\n",
       "    <tr>\n",
       "      <td>1</td>\n",
       "      <td>0.168400</td>\n",
       "      <td>0.151442</td>\n",
       "      <td>0.864422</td>\n",
       "      <td>0.825215</td>\n",
       "      <td>0.803292</td>\n",
       "      <td>0.808223</td>\n",
       "    </tr>\n",
       "    <tr>\n",
       "      <td>2</td>\n",
       "      <td>0.141000</td>\n",
       "      <td>0.155166</td>\n",
       "      <td>0.874769</td>\n",
       "      <td>0.847677</td>\n",
       "      <td>0.801151</td>\n",
       "      <td>0.819878</td>\n",
       "    </tr>\n",
       "    <tr>\n",
       "      <td>3</td>\n",
       "      <td>0.112000</td>\n",
       "      <td>0.148034</td>\n",
       "      <td>0.880682</td>\n",
       "      <td>0.832716</td>\n",
       "      <td>0.829736</td>\n",
       "      <td>0.830104</td>\n",
       "    </tr>\n",
       "    <tr>\n",
       "      <td>4</td>\n",
       "      <td>0.098200</td>\n",
       "      <td>0.151733</td>\n",
       "      <td>0.882622</td>\n",
       "      <td>0.836090</td>\n",
       "      <td>0.834066</td>\n",
       "      <td>0.834990</td>\n",
       "    </tr>\n",
       "    <tr>\n",
       "      <td>5</td>\n",
       "      <td>0.084700</td>\n",
       "      <td>0.162352</td>\n",
       "      <td>0.883038</td>\n",
       "      <td>0.840366</td>\n",
       "      <td>0.831238</td>\n",
       "      <td>0.835660</td>\n",
       "    </tr>\n",
       "    <tr>\n",
       "      <td>6</td>\n",
       "      <td>0.070600</td>\n",
       "      <td>0.171805</td>\n",
       "      <td>0.884285</td>\n",
       "      <td>0.842359</td>\n",
       "      <td>0.830630</td>\n",
       "      <td>0.835401</td>\n",
       "    </tr>\n",
       "    <tr>\n",
       "      <td>7</td>\n",
       "      <td>0.051000</td>\n",
       "      <td>0.182421</td>\n",
       "      <td>0.885116</td>\n",
       "      <td>0.848723</td>\n",
       "      <td>0.829315</td>\n",
       "      <td>0.838268</td>\n",
       "    </tr>\n",
       "    <tr>\n",
       "      <td>8</td>\n",
       "      <td>0.046100</td>\n",
       "      <td>0.182520</td>\n",
       "      <td>0.883962</td>\n",
       "      <td>0.840032</td>\n",
       "      <td>0.833965</td>\n",
       "      <td>0.836930</td>\n",
       "    </tr>\n",
       "  </tbody>\n",
       "</table><p>"
      ],
      "text/plain": [
       "<IPython.core.display.HTML object>"
      ]
     },
     "metadata": {},
     "output_type": "display_data"
    },
    {
     "data": {
      "text/plain": [
       "TrainOutput(global_step=37888, training_loss=0.10126161615590791, metrics={'train_runtime': 2448.2497, 'train_samples_per_second': 247.576, 'train_steps_per_second': 15.476, 'total_flos': 1.33885765353105e+16, 'train_loss': 0.10126161615590791, 'epoch': 8.0})"
      ]
     },
     "execution_count": 5,
     "metadata": {},
     "output_type": "execute_result"
    }
   ],
   "source": [
    "from transformers import TrainingArguments, Trainer\n",
    "import numpy as np\n",
    "from datasets import load_metric\n",
    "\n",
    "metrics = {\n",
    "    \"accuracy\": load_metric(\"accuracy\"),\n",
    "    \"precision\": load_metric(\"precision\"),\n",
    "    \"recall\": load_metric(\"recall\"),\n",
    "    \"f1\": load_metric(\"f1\"),\n",
    "}\n",
    "\n",
    "def compute_metrics(eval_pred):\n",
    "    predictions, labels = eval_pred\n",
    "    predictions = np.argmax(predictions, axis=1)\n",
    "    references = np.argmax(labels, axis=1)\n",
    "    accuracy = metrics[\"accuracy\"].compute(predictions=predictions, references=references)\n",
    "    precision = metrics[\"precision\"].compute(predictions=predictions, references=references, average=\"macro\")\n",
    "    recall = metrics[\"recall\"].compute(predictions=predictions, references=references, average=\"macro\")\n",
    "    f1 = metrics[\"f1\"].compute(predictions=predictions, references=references, average=\"macro\")\n",
    "    return {\n",
    "        \"accuracy\": accuracy[\"accuracy\"],\n",
    "        \"precision\": precision[\"precision\"],\n",
    "        \"recall\": recall[\"recall\"],\n",
    "        \"f1\": f1[\"f1\"],\n",
    "    }\n",
    "\n",
    "training_args = TrainingArguments(\n",
    "    output_dir='./results',          # output directory\n",
    "    num_train_epochs=8,              # total number of training epochs\n",
    "    per_device_train_batch_size=16,   # batch size per device during training\n",
    "    per_device_eval_batch_size=16,    # batch size for evaluation\n",
    "    learning_rate=5e-5,              # learning rate\n",
    "    warmup_steps=500,                # number of warmup steps for learning rate scheduler\n",
    "    weight_decay=0.012,               # strength of weight decay\n",
    "    logging_dir='./logs',            # directory for storing logs\n",
    "    logging_steps=500,               # log every 500 steps\n",
    "    evaluation_strategy=\"epoch\",     # evaluate at the end of each epoch\n",
    "    save_strategy=\"epoch\",           # save the model at the end of each epoch\n",
    "    load_best_model_at_end=True,     # load the best model when finished training (if using evaluation)\n",
    "    metric_for_best_model=\"accuracy\" # metric to use to compare models\n",
    ")\n",
    "\n",
    "trainer = Trainer(\n",
    "    model=model,\n",
    "    args=training_args,\n",
    "    train_dataset=train_dataset,\n",
    "    eval_dataset=val_dataset,\n",
    "    data_collator=data_collator,\n",
    "    compute_metrics=compute_metrics,\n",
    ")\n",
    "\n",
    "trainer.train()"
   ]
  },
  {
   "cell_type": "code",
   "execution_count": 6,
   "metadata": {},
   "outputs": [
    {
     "data": {
      "text/html": [],
      "text/plain": [
       "<IPython.core.display.HTML object>"
      ]
     },
     "metadata": {},
     "output_type": "display_data"
    },
    {
     "data": {
      "image/png": "[encoded data removed]",
      "text/plain": [
       "<Figure size 800x600 with 1 Axes>"
      ]
     },
     "metadata": {},
     "output_type": "display_data"
    },
    {
     "name": "stdout",
     "output_type": "stream",
     "text": [
      "              precision    recall  f1-score   support\n",
      "\n",
      "           0       0.83      0.81      0.82      1914\n",
      "           1       0.94      0.96      0.95      4226\n",
      "           2       0.89      0.92      0.91      3190\n",
      "           3       0.82      0.80      0.81       436\n",
      "           4       0.73      0.64      0.68      1058\n",
      "\n",
      "    accuracy                           0.88     10824\n",
      "   macro avg       0.84      0.83      0.83     10824\n",
      "weighted avg       0.88      0.88      0.88     10824\n",
      "\n"
     ]
    }
   ],
   "source": [
    "from src.main.utilities import plotting\n",
    "from sklearn.metrics import classification_report\n",
    "\n",
    "result = trainer.predict(test_dataset)\n",
    "\n",
    "predictions = np.argmax(result[0], axis=1)\n",
    "target = np.argmax(result[1], axis=1)\n",
    "\n",
    "plotting.plot_confusion_matrix(target, predictions)\n",
    "\n",
    "print(classification_report(target, predictions))"
   ]
  },
  {
   "cell_type": "code",
   "execution_count": 7,
   "metadata": {},
   "outputs": [],
   "source": [
    "trainer.save_model(\"./roberta_model\")"
   ]
  }
 ],
 "metadata": {
  "kernelspec": {
   "display_name": "hlt",
   "language": "python",
   "name": "hlt"
  },
  "language_info": {
   "codemirror_mode": {
    "name": "ipython",
    "version": 3
   },
   "file_extension": ".py",
   "mimetype": "text/x-python",
   "name": "python",
   "nbconvert_exporter": "python",
   "pygments_lexer": "ipython3",
   "version": "3.10.12"
  }
 },
 "nbformat": 4,
 "nbformat_minor": 4
}
